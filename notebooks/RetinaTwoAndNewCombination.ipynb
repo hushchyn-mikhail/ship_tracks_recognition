{
 "cells": [
  {
   "cell_type": "code",
   "execution_count": 1,
   "metadata": {
    "collapsed": false
   },
   "outputs": [],
   "source": [
    "%matplotlib inline\n",
    "import numpy\n",
    "import pandas\n",
    "import matplotlib.pyplot as plt"
   ]
  },
  {
   "cell_type": "code",
   "execution_count": 2,
   "metadata": {
    "collapsed": true
   },
   "outputs": [],
   "source": [
    "import os, sys\n",
    "sys.path.append('../functions')"
   ]
  },
  {
   "cell_type": "code",
   "execution_count": 3,
   "metadata": {
    "collapsed": true
   },
   "outputs": [],
   "source": [
    "import warnings\n",
    "warnings.filterwarnings('ignore')"
   ]
  },
  {
   "cell_type": "markdown",
   "metadata": {},
   "source": [
    "# Read Data"
   ]
  },
  {
   "cell_type": "code",
   "execution_count": 4,
   "metadata": {
    "collapsed": false
   },
   "outputs": [
    {
     "data": {
      "text/html": [
       "<div>\n",
       "<table border=\"1\" class=\"dataframe\">\n",
       "  <thead>\n",
       "    <tr style=\"text-align: right;\">\n",
       "      <th></th>\n",
       "      <th>EventID</th>\n",
       "      <th>TrackID</th>\n",
       "      <th>PdgCode</th>\n",
       "      <th>DetectorID</th>\n",
       "      <th>StatNb</th>\n",
       "      <th>ViewNb</th>\n",
       "      <th>PlaneNb</th>\n",
       "      <th>LayerNb</th>\n",
       "      <th>StrawNb</th>\n",
       "      <th>Px</th>\n",
       "      <th>...</th>\n",
       "      <th>Wx2</th>\n",
       "      <th>Wy1</th>\n",
       "      <th>Wy2</th>\n",
       "      <th>Wz</th>\n",
       "      <th>Wz1</th>\n",
       "      <th>Wz2</th>\n",
       "      <th>Label</th>\n",
       "      <th>Time</th>\n",
       "      <th>ELoss</th>\n",
       "      <th>IsStereo</th>\n",
       "    </tr>\n",
       "  </thead>\n",
       "  <tbody>\n",
       "    <tr>\n",
       "      <th>79</th>\n",
       "      <td>2</td>\n",
       "      <td>2</td>\n",
       "      <td>-211</td>\n",
       "      <td>10002284</td>\n",
       "      <td>1</td>\n",
       "      <td>0</td>\n",
       "      <td>0</td>\n",
       "      <td>0</td>\n",
       "      <td>284</td>\n",
       "      <td>0.866347</td>\n",
       "      <td>...</td>\n",
       "      <td>250.000000</td>\n",
       "      <td>0.868600</td>\n",
       "      <td>0.868600</td>\n",
       "      <td>2581.1500</td>\n",
       "      <td>2581.1500</td>\n",
       "      <td>2581.1500</td>\n",
       "      <td>0</td>\n",
       "      <td>383.880371</td>\n",
       "      <td>5.310523e-06</td>\n",
       "      <td>0</td>\n",
       "    </tr>\n",
       "    <tr>\n",
       "      <th>111</th>\n",
       "      <td>2</td>\n",
       "      <td>2</td>\n",
       "      <td>-211</td>\n",
       "      <td>42012282</td>\n",
       "      <td>4</td>\n",
       "      <td>2</td>\n",
       "      <td>0</td>\n",
       "      <td>1</td>\n",
       "      <td>282</td>\n",
       "      <td>0.867240</td>\n",
       "      <td>...</td>\n",
       "      <td>249.507863</td>\n",
       "      <td>27.037487</td>\n",
       "      <td>-16.540384</td>\n",
       "      <td>3542.3793</td>\n",
       "      <td>3542.3793</td>\n",
       "      <td>3542.3793</td>\n",
       "      <td>0</td>\n",
       "      <td>415.954742</td>\n",
       "      <td>5.271870e-07</td>\n",
       "      <td>1</td>\n",
       "    </tr>\n",
       "    <tr>\n",
       "      <th>81</th>\n",
       "      <td>2</td>\n",
       "      <td>2</td>\n",
       "      <td>-211</td>\n",
       "      <td>11012288</td>\n",
       "      <td>1</td>\n",
       "      <td>1</td>\n",
       "      <td>0</td>\n",
       "      <td>1</td>\n",
       "      <td>288</td>\n",
       "      <td>0.866625</td>\n",
       "      <td>...</td>\n",
       "      <td>249.509850</td>\n",
       "      <td>-27.060200</td>\n",
       "      <td>16.517671</td>\n",
       "      <td>2592.3793</td>\n",
       "      <td>2592.3793</td>\n",
       "      <td>2592.3793</td>\n",
       "      <td>0</td>\n",
       "      <td>384.254303</td>\n",
       "      <td>3.097434e-06</td>\n",
       "      <td>1</td>\n",
       "    </tr>\n",
       "    <tr>\n",
       "      <th>43</th>\n",
       "      <td>2</td>\n",
       "      <td>3</td>\n",
       "      <td>-13</td>\n",
       "      <td>11012286</td>\n",
       "      <td>1</td>\n",
       "      <td>1</td>\n",
       "      <td>0</td>\n",
       "      <td>1</td>\n",
       "      <td>286</td>\n",
       "      <td>-0.239448</td>\n",
       "      <td>...</td>\n",
       "      <td>249.203062</td>\n",
       "      <td>-23.553595</td>\n",
       "      <td>20.024276</td>\n",
       "      <td>2592.3793</td>\n",
       "      <td>2592.3793</td>\n",
       "      <td>2592.3793</td>\n",
       "      <td>1</td>\n",
       "      <td>384.251007</td>\n",
       "      <td>3.362202e-06</td>\n",
       "      <td>1</td>\n",
       "    </tr>\n",
       "    <tr>\n",
       "      <th>88</th>\n",
       "      <td>2</td>\n",
       "      <td>2</td>\n",
       "      <td>-211</td>\n",
       "      <td>20012285</td>\n",
       "      <td>2</td>\n",
       "      <td>0</td>\n",
       "      <td>0</td>\n",
       "      <td>1</td>\n",
       "      <td>285</td>\n",
       "      <td>0.866401</td>\n",
       "      <td>...</td>\n",
       "      <td>250.000000</td>\n",
       "      <td>-0.011400</td>\n",
       "      <td>-0.011400</td>\n",
       "      <td>2782.2500</td>\n",
       "      <td>2782.2500</td>\n",
       "      <td>2782.2500</td>\n",
       "      <td>0</td>\n",
       "      <td>390.597870</td>\n",
       "      <td>1.754228e-06</td>\n",
       "      <td>0</td>\n",
       "    </tr>\n",
       "  </tbody>\n",
       "</table>\n",
       "<p>5 rows × 27 columns</p>\n",
       "</div>"
      ],
      "text/plain": [
       "     EventID  TrackID  PdgCode  DetectorID  StatNb  ViewNb  PlaneNb  LayerNb  \\\n",
       "79         2        2     -211    10002284       1       0        0        0   \n",
       "111        2        2     -211    42012282       4       2        0        1   \n",
       "81         2        2     -211    11012288       1       1        0        1   \n",
       "43         2        3      -13    11012286       1       1        0        1   \n",
       "88         2        2     -211    20012285       2       0        0        1   \n",
       "\n",
       "     StrawNb        Px    ...            Wx2        Wy1        Wy2         Wz  \\\n",
       "79       284  0.866347    ...     250.000000   0.868600   0.868600  2581.1500   \n",
       "111      282  0.867240    ...     249.507863  27.037487 -16.540384  3542.3793   \n",
       "81       288  0.866625    ...     249.509850 -27.060200  16.517671  2592.3793   \n",
       "43       286 -0.239448    ...     249.203062 -23.553595  20.024276  2592.3793   \n",
       "88       285  0.866401    ...     250.000000  -0.011400  -0.011400  2782.2500   \n",
       "\n",
       "           Wz1        Wz2  Label        Time         ELoss  IsStereo  \n",
       "79   2581.1500  2581.1500      0  383.880371  5.310523e-06         0  \n",
       "111  3542.3793  3542.3793      0  415.954742  5.271870e-07         1  \n",
       "81   2592.3793  2592.3793      0  384.254303  3.097434e-06         1  \n",
       "43   2592.3793  2592.3793      1  384.251007  3.362202e-06         1  \n",
       "88   2782.2500  2782.2500      0  390.597870  1.754228e-06         0  \n",
       "\n",
       "[5 rows x 27 columns]"
      ]
     },
     "execution_count": 4,
     "metadata": {},
     "output_type": "execute_result"
    }
   ],
   "source": [
    "data = pandas.read_csv('Data/hits.csv', index_col=0)\n",
    "\n",
    "data['IsStereo'] = (data.ViewNb.values == 1) * 1. + (data.ViewNb.values == 2) * 1.\n",
    "\n",
    "data.head()"
   ]
  },
  {
   "cell_type": "code",
   "execution_count": 5,
   "metadata": {
    "collapsed": false
   },
   "outputs": [
    {
     "name": "stdout",
     "output_type": "stream",
     "text": [
      "100\n",
      "570\n"
     ]
    }
   ],
   "source": [
    "from sklearn.cross_validation import train_test_split\n",
    "\n",
    "event_ids = numpy.unique(data.EventID.values)\n",
    "event_ids_train, event_ids_test= train_test_split(event_ids, train_size=100, random_state=42)\n",
    "#event_ids_train, event_ids_valid = train_test_split(event_ids_train, train_size=0.5, random_state=42)\n",
    "\n",
    "print len(event_ids_train)\n",
    "print len(event_ids_test)"
   ]
  },
  {
   "cell_type": "markdown",
   "metadata": {},
   "source": [
    "# Tracks Reconstruction"
   ]
  },
  {
   "cell_type": "code",
   "execution_count": 6,
   "metadata": {
    "collapsed": false
   },
   "outputs": [],
   "source": [
    "from baseline import SimpleTemplateMatching\n",
    "from hough import LinearHoughModel\n",
    "from reconstruction import TracksReconstruction2D\n",
    "from combination import Combinator, SuperCombinator\n",
    "from retina import Retina2DTrackerTwo\n",
    "from utils import get_sample_weight, plot_event\n",
    "\n",
    "\n",
    "from metrics import TracksReconstractionMetrics, CombinatorQuality"
   ]
  },
  {
   "cell_type": "markdown",
   "metadata": {},
   "source": [
    "### Tests"
   ]
  },
  {
   "cell_type": "code",
   "execution_count": 7,
   "metadata": {
    "collapsed": false
   },
   "outputs": [],
   "source": [
    "event = data[data.EventID == 3110]\n",
    "event12 = event[(event.StatNb <= 2)*(event.ViewNb != 1)*(event.ViewNb != 2)]\n",
    "\n",
    "x = event12.Wz1.values\n",
    "y = event12.Wy1.values\n",
    "sample_weight = get_sample_weight(event12)"
   ]
  },
  {
   "cell_type": "code",
   "execution_count": 8,
   "metadata": {
    "collapsed": false
   },
   "outputs": [
    {
     "data": {
      "text/plain": [
       "array([ 0.33333333,  0.5       ,  0.33333333,  0.33333333,  0.33333333,\n",
       "        0.5       ,  0.33333333,  0.5       ,  0.33333333,  0.33333333,\n",
       "        0.33333333,  0.5       ,  0.5       ,  0.33333333,  0.5       ,\n",
       "        0.5       ,  0.5       ,  0.5       ,  0.5       ])"
      ]
     },
     "execution_count": 8,
     "metadata": {},
     "output_type": "execute_result"
    }
   ],
   "source": [
    "sample_weight"
   ]
  },
  {
   "cell_type": "code",
   "execution_count": 9,
   "metadata": {
    "collapsed": false
   },
   "outputs": [],
   "source": [
    "#%%time\n",
    "rt = Retina2DTrackerTwo(n_tracks=2, residuals_threshold=0.7, sigma=0.7, min_hits=2)\n",
    "\n",
    "rt.fit(x, y, sample_weight)\n",
    "\n",
    "labels = rt.labels_\n",
    "tracks_params = rt.tracks_params_"
   ]
  },
  {
   "cell_type": "code",
   "execution_count": 10,
   "metadata": {
    "collapsed": false
   },
   "outputs": [
    {
     "data": {
      "image/png": "[encoded data removed]",
      "text/plain": [
       "<matplotlib.figure.Figure at 0x10a228990>"
      ]
     },
     "metadata": {},
     "output_type": "display_data"
    }
   ],
   "source": [
    "plt.scatter(x, y)\n",
    "for n in range(len(tracks_params)):\n",
    "    plt.plot(x, tracks_params[n][0] * x + tracks_params[n][1])\n",
    "plt.show()"
   ]
  },
  {
   "cell_type": "code",
   "execution_count": 11,
   "metadata": {
    "collapsed": false
   },
   "outputs": [
    {
     "data": {
      "text/plain": [
       "1.0"
      ]
     },
     "execution_count": 11,
     "metadata": {},
     "output_type": "execute_result"
    }
   ],
   "source": [
    "from metrics import HitsMatchingEfficiency\n",
    "\n",
    "hme = HitsMatchingEfficiency(eff_threshold=0.3)\n",
    "hme.fit(event12.Label.values, labels)\n",
    "\n",
    "hme.recognition_efficiency_"
   ]
  },
  {
   "cell_type": "code",
   "execution_count": 12,
   "metadata": {
    "collapsed": false
   },
   "outputs": [
    {
     "data": {
      "text/plain": [
       "array([[  9.32675699e-03,   6.39643122e+01],\n",
       "       [  7.82610592e-03,   6.70837651e+01]])"
      ]
     },
     "execution_count": 12,
     "metadata": {},
     "output_type": "execute_result"
    }
   ],
   "source": [
    "tracks_params"
   ]
  },
  {
   "cell_type": "code",
   "execution_count": 13,
   "metadata": {
    "collapsed": false
   },
   "outputs": [
    {
     "data": {
      "text/plain": [
       "array([ 0.,  0.,  0.,  1.,  0.,  1.,  0.,  0., -1.,  1.,  0.,  1.,  0.,\n",
       "       -1.,  0.,  0.,  0.,  0.,  0.])"
      ]
     },
     "execution_count": 13,
     "metadata": {},
     "output_type": "execute_result"
    }
   ],
   "source": [
    "labels"
   ]
  },
  {
   "cell_type": "code",
   "execution_count": 14,
   "metadata": {
    "collapsed": false
   },
   "outputs": [
    {
     "data": {
      "text/plain": [
       "array([ 1.,  1.,  0.,  1.,  0.,  1.,  0.,  0.,  0.,  1.,  1.,  1.,  0.,\n",
       "        0.,  1.,  0.,  1.,  0.,  0.])"
      ]
     },
     "execution_count": 14,
     "metadata": {},
     "output_type": "execute_result"
    }
   ],
   "source": [
    "event12.Label.values"
   ]
  },
  {
   "cell_type": "markdown",
   "metadata": {},
   "source": [
    "# Train Classifier for the Tracks Combination"
   ]
  },
  {
   "cell_type": "code",
   "execution_count": null,
   "metadata": {
    "collapsed": true
   },
   "outputs": [],
   "source": []
  },
  {
   "cell_type": "code",
   "execution_count": 15,
   "metadata": {
    "collapsed": false
   },
   "outputs": [],
   "source": [
    "#%%time\n",
    "\n",
    "from combination import SuperCombinator\n",
    "from multiprocessing import Pool\n",
    "from utils import merge_dicts, get_sample_weight\n",
    "\n",
    "event_ids = event_ids_train\n",
    "tracks = {}\n",
    "\n",
    "def tracks_reconstruction(event_id):\n",
    "    \n",
    "    # Get an event\n",
    "    event = data[data.EventID == event_id]\n",
    "    event12 = event[(event.StatNb == 1) + (event.StatNb == 2)]\n",
    "    event34 = event[(event.StatNb == 3) + (event.StatNb == 4)]\n",
    "    \n",
    "    weights12 = get_sample_weight(event12)\n",
    "    weights34 = get_sample_weight(event34)\n",
    "    \n",
    "    # Select model for the tracks reconstruction\n",
    "    stm_y = Retina2DTrackerTwo(n_tracks=2, residuals_threshold=0.3, sigma=0.7, min_hits=2)\n",
    "    stm_stereo = Retina2DTrackerTwo(n_tracks=1, residuals_threshold=7, sigma=7, min_hits=2)\n",
    "    \n",
    "    # Tracks reconstruction before the magnet\n",
    "    tr2d12 = TracksReconstruction2D(model_y=stm_y, model_stereo=stm_stereo)\n",
    "    tr2d12.fit(event12, weights12)\n",
    "    \n",
    "    labels12 = tr2d12.labels_\n",
    "    tracks_params12 = tr2d12.tracks_params_\n",
    "    \n",
    "    # Tracks reconstruction after the magnet\n",
    "    tr2d34 = TracksReconstruction2D(model_y=stm_y, model_stereo=stm_stereo)\n",
    "    tr2d34.fit(event34, weights34)\n",
    "    \n",
    "    labels34 = tr2d34.labels_\n",
    "    tracks_params34 = tr2d34.tracks_params_\n",
    "    \n",
    "    \n",
    "    # Save the hits labels and the tracks parameters \n",
    "    one_track = {}\n",
    "    \n",
    "    one_track[event_id] = {'labels12':labels12, 'params12':tracks_params12, \n",
    "                           'labels34':labels34, 'params34':tracks_params34}\n",
    "    return one_track\n",
    "\n",
    "if __name__ == \"__main__\":\n",
    "    p = Pool(4)\n",
    "    results = p.map(tracks_reconstruction, event_ids)\n",
    "    tracks = merge_dicts(results)"
   ]
  },
  {
   "cell_type": "code",
   "execution_count": 16,
   "metadata": {
    "collapsed": false,
    "scrolled": true
   },
   "outputs": [],
   "source": [
    "# for i in event_ids:\n",
    "#     print i\n",
    "#     _=tracks_reconstruction(i)"
   ]
  },
  {
   "cell_type": "code",
   "execution_count": 17,
   "metadata": {
    "collapsed": true
   },
   "outputs": [],
   "source": [
    "sc = SuperCombinator()\n",
    "\n",
    "combination_data = sc.data_collection(tracks, data)\n",
    "\n",
    "X_data = combination_data[combination_data.columns[:-1]].values\n",
    "y_data = combination_data.label.values"
   ]
  },
  {
   "cell_type": "code",
   "execution_count": 18,
   "metadata": {
    "collapsed": false
   },
   "outputs": [
    {
     "name": "stdout",
     "output_type": "stream",
     "text": [
      "CPU times: user 7.13 s, sys: 6.6 s, total: 13.7 s\n",
      "Wall time: 11.4 s\n"
     ]
    },
    {
     "data": {
      "text/plain": [
       "FoldingClassifier(base_estimator=XGBoostClassifier(base_score=0.5, colsample=0.7, eta=0.01, features=None,\n",
       "         gamma=None, max_depth=8, min_child_weight=1.0, missing=-999.0,\n",
       "         n_estimators=1000, nthreads=3, num_feature=None, random_state=0,\n",
       "         scale_pos_weight=1.0, subsample=0.7, verbose=0),\n",
       "         features=['Feature_0', 'Feature_1', 'Feature_2', 'Feature_3', 'Feature_4', 'Feature_5', 'Feature_6', 'Feature_7', 'Feature_8', 'Feature_9', 'Feature_10', 'Feature_11', 'Feature_12', 'Feature_13', 'Feature_14'],\n",
       "         n_folds=10, parallel_profile=None, random_state=11)"
      ]
     },
     "execution_count": 18,
     "metadata": {},
     "output_type": "execute_result"
    }
   ],
   "source": [
    "from rep.metaml import FoldingClassifier\n",
    "from rep.estimators import XGBoostClassifier\n",
    "\n",
    "\n",
    "from rep.estimators import XGBoostClassifier\n",
    "xgb_base = XGBoostClassifier(n_estimators=1000, colsample=0.7, eta=0.01, nthreads=3, \n",
    "                             subsample=0.7, max_depth=8)\n",
    "folding = FoldingClassifier(xgb_base, n_folds=10, random_state=11)\n",
    "%time folding.fit(X_data, y_data)"
   ]
  },
  {
   "cell_type": "code",
   "execution_count": 19,
   "metadata": {
    "collapsed": false
   },
   "outputs": [
    {
     "name": "stdout",
     "output_type": "stream",
     "text": [
      "KFold prediction using folds column\n",
      "KFold prediction using folds column\n",
      "0.994949494949\n"
     ]
    },
    {
     "data": {
      "image/png": "[encoded data removed]",
      "text/plain": [
       "<matplotlib.figure.Figure at 0x10f100610>"
      ]
     },
     "metadata": {},
     "output_type": "display_data"
    }
   ],
   "source": [
    "y_proba = folding.predict_proba(X_data)[:, 1]\n",
    "y_predict = folding.predict(X_data)\n",
    "\n",
    "y_proba = y_predict\n",
    "\n",
    "from sklearn.metrics import roc_auc_score\n",
    "print roc_auc_score(y_data, y_proba)\n",
    "\n",
    "plt.hist(y_proba[y_data==1], label='1', color='b', bins=20, alpha=0.5)\n",
    "plt.hist(y_proba[y_data==0], label='0', color='r', bins=20, alpha=0.5)\n",
    "plt.ylim(0,10)\n",
    "plt.show()"
   ]
  },
  {
   "cell_type": "code",
   "execution_count": 20,
   "metadata": {
    "collapsed": false
   },
   "outputs": [
    {
     "name": "stdout",
     "output_type": "stream",
     "text": [
      "396 2\n"
     ]
    }
   ],
   "source": [
    "N = ((y_predict == y_data)*1).sum()\n",
    "N_mis = ((y_predict != y_data)*1).sum()\n",
    "\n",
    "print N, N_mis"
   ]
  },
  {
   "cell_type": "code",
   "execution_count": null,
   "metadata": {
    "collapsed": true
   },
   "outputs": [],
   "source": []
  },
  {
   "cell_type": "markdown",
   "metadata": {},
   "source": [
    "### Tracks Reconstruction"
   ]
  },
  {
   "cell_type": "code",
   "execution_count": 21,
   "metadata": {
    "collapsed": false
   },
   "outputs": [
    {
     "name": "stdout",
     "output_type": "stream",
     "text": [
      "CPU times: user 37.9 ms, sys: 21.5 ms, total: 59.4 ms\n",
      "Wall time: 16.1 s\n"
     ]
    }
   ],
   "source": [
    "%%time\n",
    "from multiprocessing import Pool\n",
    "from utils import merge_dicts\n",
    "\n",
    "event_ids = event_ids_test\n",
    "tracks = {}\n",
    "\n",
    "def tracks_reconstruction(event_id):\n",
    "    \n",
    "    # Get an event\n",
    "    event = data[data.EventID == event_id]\n",
    "    event12 = event[(event.StatNb == 1) + (event.StatNb == 2)]\n",
    "    event34 = event[(event.StatNb == 3) + (event.StatNb == 4)]\n",
    "    \n",
    "    weights12 = get_sample_weight(event12)\n",
    "    weights34 = get_sample_weight(event34)\n",
    "    \n",
    "    # Select model for the tracks reconstruction\n",
    "    stm_y = Retina2DTrackerTwo(n_tracks=2, residuals_threshold=0.4, sigma=0.7, min_hits=2)\n",
    "    stm_stereo = Retina2DTrackerTwo(n_tracks=1, residuals_threshold=7, sigma=7, min_hits=2)\n",
    "    \n",
    "    # Tracks reconstruction before the magnet\n",
    "    tr2d12 = TracksReconstruction2D(model_y=stm_y, model_stereo=stm_stereo)\n",
    "    tr2d12.fit(event12, weights12)\n",
    "    \n",
    "    labels12 = tr2d12.labels_\n",
    "    tracks_params12 = tr2d12.tracks_params_\n",
    "    \n",
    "    # Tracks reconstruction after the magnet\n",
    "    tr2d34 = TracksReconstruction2D(model_y=stm_y, model_stereo=stm_stereo)\n",
    "    tr2d34.fit(event34, weights34)\n",
    "    \n",
    "    labels34 = tr2d34.labels_\n",
    "    tracks_params34 = tr2d34.tracks_params_\n",
    "    \n",
    "    \n",
    "    # Save the hits labels and the tracks parameters \n",
    "    one_track = {}\n",
    "    \n",
    "    one_track[event_id] = {'labels12':labels12, 'params12':tracks_params12, \n",
    "                           'labels34':labels34, 'params34':tracks_params34}\n",
    "    \n",
    "    return one_track\n",
    "\n",
    "if __name__ == \"__main__\":\n",
    "    p = Pool(3)\n",
    "    results = p.map(tracks_reconstruction, event_ids)\n",
    "    tracks = merge_dicts(results)"
   ]
  },
  {
   "cell_type": "code",
   "execution_count": 22,
   "metadata": {
    "collapsed": false
   },
   "outputs": [],
   "source": [
    "#tracks_reconstruction(2)"
   ]
  },
  {
   "cell_type": "code",
   "execution_count": 59,
   "metadata": {
    "collapsed": false
   },
   "outputs": [
    {
     "name": "stdout",
     "output_type": "stream",
     "text": [
      "CPU times: user 48.2 s, sys: 870 ms, total: 49.1 s\n",
      "Wall time: 56.4 s\n"
     ]
    }
   ],
   "source": [
    "%%time\n",
    "\n",
    "tracks_metrics_before_y = pandas.DataFrame(columns=['EventID', 'AvgEff', 'RecoEff', 'GhostRate', 'CloneRate'])\n",
    "tracks_metrics_before_stereo = pandas.DataFrame(columns=['EventID', 'AvgEff', 'RecoEff', 'GhostRate', 'CloneRate'])\n",
    "tracks_metrics_before_all = pandas.DataFrame(columns=['EventID', 'AvgEff', 'RecoEff', 'GhostRate', 'CloneRate'])\n",
    "\n",
    "tracks_metrics_after_y = pandas.DataFrame(columns=['EventID', 'AvgEff', 'RecoEff', 'GhostRate', 'CloneRate'])\n",
    "tracks_metrics_after_stereo = pandas.DataFrame(columns=['EventID', 'AvgEff', 'RecoEff', 'GhostRate', 'CloneRate'])\n",
    "tracks_metrics_after_all = pandas.DataFrame(columns=['EventID', 'AvgEff', 'RecoEff', 'GhostRate', 'CloneRate'])\n",
    "\n",
    "combinations = pandas.DataFrame(columns=['EventID', 'TrackIDBefore', 'TrackIDAfter', 'Charge', 'PInv'])\n",
    "combinations_true = pandas.DataFrame(columns=['EventID', 'IsTrueCombination', 'PdgCode', 'Charge', \n",
    "                                                 'IsTrueCharge', 'TruePInv', 'PErr', 'Label'])\n",
    "\n",
    "combinations_quality = pandas.DataFrame(columns=['EventID', 'RecoEff', 'GhostRate', 'CloneRate', 'NCombined'])\n",
    "\n",
    "pass_stages = pandas.DataFrame(columns=['EventID', 'RecoEvents', 'Y12', 'Stereo12', 'Stations12', \n",
    "                                        'Y34', 'Stereo34', 'Stations34', 'Combination', 'Matching'])\n",
    "\n",
    "for event_id in event_ids_test:\n",
    "    \n",
    "    \n",
    "    # Get an event\n",
    "    event = data[data.EventID == event_id]\n",
    "    event12 = event[(event.StatNb == 1) + (event.StatNb == 2)]\n",
    "    event34 = event[(event.StatNb == 3) + (event.StatNb == 4)]\n",
    "    \n",
    "    weights12 = None# 1. / numpy.sqrt(event12.dist2Wire.values**2 + 0.01**2)\n",
    "    weights34 = None# 1. / numpy.sqrt(event34.dist2Wire.values**2 + 0.01**2)\n",
    "    \n",
    "    labels12 = tracks[event_id]['labels12']\n",
    "    tracks_params12 = tracks[event_id]['params12']\n",
    "    labels34 = tracks[event_id]['labels34']\n",
    "    tracks_params34 = tracks[event_id]['params34']\n",
    "    \n",
    "    # Select model for the tracks reconstruction\n",
    "    # stm_y = LinearHoughModel(k_params=(-0.2, 0.2, 0.0004), b_params=(-800, 800, 1.6), min_hits=4, multiplier=2)\n",
    "    # stm_stereo = LinearHoughModel(k_params=(-0.2, 0.2, 0.005), b_params=(-800, 800, 10), min_hits=4, multiplier=2)\n",
    "    \n",
    "    \n",
    "    # Tracks reconstruction before the magnet\n",
    "    # tr2d12 = TracksReconstruction2D(model_y=stm_y, model_stereo=stm_stereo)\n",
    "    # tr2d12.fit(event12, weights12)\n",
    "    \n",
    "    # labels12 = tr2d12.labels_\n",
    "    # tracks_params12 = tr2d12.tracks_params_\n",
    "    \n",
    "    # Quality metrics of the reconstruction\n",
    "    trm12 = TracksReconstractionMetrics(0.2, n_tracks=2)\n",
    "    trm12.fit(labels12, event12)\n",
    "\n",
    "    tracks_metrics_before_y.loc[len(tracks_metrics_before_y)] = [event_id, \n",
    "                                                                 trm12.avg_efficiency_y_, \n",
    "                                                                 trm12.recognition_efficiency_y_, \n",
    "                                                                 trm12.ghost_rate_y_, \n",
    "                                                                 trm12.clone_rate_y_]\n",
    "\n",
    "    tracks_metrics_before_stereo.loc[len(tracks_metrics_before_stereo)] = [event_id, \n",
    "                                                                 trm12.avg_efficiency_stereo_, \n",
    "                                                                 trm12.recognition_efficiency_stereo_, \n",
    "                                                                 trm12.ghost_rate_stereo_, \n",
    "                                                                 trm12.clone_rate_stereo_]\n",
    "    \n",
    "    tracks_metrics_before_all.loc[len(tracks_metrics_before_all)] = [event_id, \n",
    "                                                                 trm12.avg_efficiency_, \n",
    "                                                                 trm12.recognition_efficiency_, \n",
    "                                                                 trm12.ghost_rate_, \n",
    "                                                                 trm12.clone_rate_]\n",
    "\n",
    "    # Tracks reconstruction after the magnet\n",
    "    # tr2d34 = TracksReconstruction2D(model_y=stm_y, model_stereo=stm_stereo)\n",
    "    # tr2d34.fit(event34, weights34)\n",
    "    \n",
    "    # labels34 = tr2d34.labels_\n",
    "    # tracks_params34 = tr2d34.tracks_params_\n",
    "    \n",
    "    # Quality metrics of the reconstruction\n",
    "    trm34 = TracksReconstractionMetrics(0.2, n_tracks=2)\n",
    "    trm34.fit(labels34, event34)\n",
    "    \n",
    "    tracks_metrics_after_y.loc[len(tracks_metrics_after_y)] = [event_id, \n",
    "                                                                 trm34.avg_efficiency_y_, \n",
    "                                                                 trm34.recognition_efficiency_y_, \n",
    "                                                                 trm34.ghost_rate_y_, \n",
    "                                                                 trm34.clone_rate_y_]\n",
    "\n",
    "    tracks_metrics_after_stereo.loc[len(tracks_metrics_after_stereo)] = [event_id, \n",
    "                                                                 trm34.avg_efficiency_stereo_, \n",
    "                                                                 trm34.recognition_efficiency_stereo_, \n",
    "                                                                 trm34.ghost_rate_stereo_, \n",
    "                                                                 trm34.clone_rate_stereo_]\n",
    "    \n",
    "    tracks_metrics_after_all.loc[len(tracks_metrics_after_all)] = [event_id, \n",
    "                                                                 trm34.avg_efficiency_, \n",
    "                                                                 trm34.recognition_efficiency_, \n",
    "                                                                 trm34.ghost_rate_, \n",
    "                                                                 trm34.clone_rate_]\n",
    "    \n",
    "        \n",
    "    \n",
    "    # Combination of the tracks before and after the magnet\n",
    "    comb = SuperCombinator(classifier=folding.estimators[0])\n",
    "    #comb = Combinator()\n",
    "    comb.combine(tracks_params12, tracks_params34)\n",
    "    \n",
    "    for num in range(len(comb.tracks_combinations_)):\n",
    "        \n",
    "        combinations.loc[len(combinations)] = [event_id, \n",
    "                                               comb.tracks_combinations_[num][0], \n",
    "                                               comb.tracks_combinations_[num][1], \n",
    "                                               comb.charges_[num], \n",
    "                                               comb.inv_momentums_[num]]\n",
    "    \n",
    "    # Quality of the combination\n",
    "    cq = CombinatorQuality()\n",
    "    cq.fit(labels12, labels34, comb.tracks_combinations_, comb.charges_, comb.inv_momentums_, event12, event34)\n",
    "    \n",
    "    combinations_quality.loc[len(combinations_quality)] = [event_id, \n",
    "                                                           cq.reco_eff_, \n",
    "                                                           cq.ghost_rate_, \n",
    "                                                           cq.clone_rate_, \n",
    "                                                           cq.n_combined_]\n",
    "    \n",
    "    for num in range(len(cq.check_tracks_combinations_)):\n",
    "        \n",
    "        combinations_true.loc[len(combinations_true)] = [event_id, \n",
    "                                                               cq.check_tracks_combinations_[num], \n",
    "                                                               cq.true_pdg_codes_[num], \n",
    "                                                               cq.true_charges_[num],\n",
    "                                                               cq.check_charges_[num], \n",
    "                                                               cq.true_inv_momentums_[num], \n",
    "                                                               cq.momentums_err_[num],\n",
    "                                                               cq.labels_[num]]\n",
    "\n",
    "    \n",
    "    \n",
    "    # Overall quality\n",
    "    line = numpy.array([1, \n",
    "                         (trm12.recognition_efficiency_y_ == 1)*1, \n",
    "                         (trm12.recognition_efficiency_stereo_ >= 1)*1, \n",
    "                         (trm12.recognition_efficiency_ == 1)*1,\n",
    "                         (trm34.recognition_efficiency_y_ == 1)*1, \n",
    "                         (trm34.recognition_efficiency_stereo_ >= 1)*1, \n",
    "                         (trm34.recognition_efficiency_ == 1)*1, \n",
    "                         (cq.n_combined_ >= 2)*1,\n",
    "                         (cq.reco_eff_ == 1)*1]).cumprod()\n",
    "    pass_stages.loc[len(pass_stages)] = numpy.concatenate(([event_id], line), axis=0)\n"
   ]
  },
  {
   "cell_type": "markdown",
   "metadata": {},
   "source": [
    "# Quality"
   ]
  },
  {
   "cell_type": "markdown",
   "metadata": {},
   "source": [
    "# Stations 1&2"
   ]
  },
  {
   "cell_type": "markdown",
   "metadata": {},
   "source": [
    "### Y-views"
   ]
  },
  {
   "cell_type": "code",
   "execution_count": 24,
   "metadata": {
    "collapsed": false
   },
   "outputs": [
    {
     "data": {
      "text/plain": [
       "EventID      2567.573684\n",
       "AvgEff          0.991049\n",
       "RecoEff         0.994737\n",
       "GhostRate       0.000000\n",
       "CloneRate       0.005263\n",
       "dtype: float64"
      ]
     },
     "execution_count": 24,
     "metadata": {},
     "output_type": "execute_result"
    }
   ],
   "source": [
    "tracks_metrics_before_y.mean(axis=0)"
   ]
  },
  {
   "cell_type": "markdown",
   "metadata": {},
   "source": [
    "### Stereo-views"
   ]
  },
  {
   "cell_type": "code",
   "execution_count": 25,
   "metadata": {
    "collapsed": false
   },
   "outputs": [
    {
     "data": {
      "text/plain": [
       "EventID      2567.573684\n",
       "AvgEff          0.989094\n",
       "RecoEff         0.995614\n",
       "GhostRate       0.001754\n",
       "CloneRate       0.001754\n",
       "dtype: float64"
      ]
     },
     "execution_count": 25,
     "metadata": {},
     "output_type": "execute_result"
    }
   ],
   "source": [
    "tracks_metrics_before_stereo.mean(axis=0)"
   ]
  },
  {
   "cell_type": "markdown",
   "metadata": {},
   "source": [
    "### Stations 1&2"
   ]
  },
  {
   "cell_type": "code",
   "execution_count": 26,
   "metadata": {
    "collapsed": false
   },
   "outputs": [
    {
     "data": {
      "text/plain": [
       "EventID      2567.573684\n",
       "AvgEff          0.989284\n",
       "RecoEff         0.995614\n",
       "GhostRate       0.000000\n",
       "CloneRate       0.004386\n",
       "dtype: float64"
      ]
     },
     "execution_count": 26,
     "metadata": {},
     "output_type": "execute_result"
    }
   ],
   "source": [
    "tracks_metrics_before_all.mean(axis=0)"
   ]
  },
  {
   "cell_type": "markdown",
   "metadata": {},
   "source": [
    "### Track efficiency"
   ]
  },
  {
   "cell_type": "code",
   "execution_count": 27,
   "metadata": {
    "collapsed": false
   },
   "outputs": [
    {
     "data": {
      "image/png": "[encoded data removed]",
      "text/plain": [
       "<matplotlib.figure.Figure at 0x10f100f90>"
      ]
     },
     "metadata": {},
     "output_type": "display_data"
    }
   ],
   "source": [
    "plt.figure(figsize=(15, 3))\n",
    "\n",
    "plt.subplot(1,3,1)\n",
    "eff_y = tracks_metrics_before_y.AvgEff.values\n",
    "plt.title('Mean = % f' % numpy.array(eff_y).mean())\n",
    "plt.hist(eff_y, label='y')\n",
    "plt.xlabel('Track efficiency')\n",
    "plt.xlim(0, 1)\n",
    "plt.legend(loc='best')\n",
    "\n",
    "plt.subplot(1,3,2)\n",
    "eff_stereo = tracks_metrics_before_stereo.AvgEff.values\n",
    "plt.title('Mean = % f' % numpy.array(eff_stereo).mean())\n",
    "plt.hist(eff_stereo, label='stereo')\n",
    "plt.xlabel('Track efficiency')\n",
    "plt.xlim(0, 1)\n",
    "plt.legend(loc='best')\n",
    "\n",
    "plt.subplot(1,3,3)\n",
    "eff_station = tracks_metrics_before_all.AvgEff.values\n",
    "plt.title('Mean = % f' % numpy.array(eff_station).mean())\n",
    "plt.hist(eff_station, label='station 1&2')\n",
    "plt.xlabel('Track efficiency')\n",
    "plt.xlim(0, 1)\n",
    "plt.legend(loc='best')\n",
    "\n",
    "plt.show()"
   ]
  },
  {
   "cell_type": "markdown",
   "metadata": {},
   "source": [
    "### Reconstruction efficiency"
   ]
  },
  {
   "cell_type": "code",
   "execution_count": 28,
   "metadata": {
    "collapsed": false
   },
   "outputs": [
    {
     "data": {
      "image/png": "[encoded data removed]",
      "text/plain": [
       "<matplotlib.figure.Figure at 0x10f0edb10>"
      ]
     },
     "metadata": {},
     "output_type": "display_data"
    }
   ],
   "source": [
    "plt.figure(figsize=(15, 3))\n",
    "\n",
    "plt.subplot(1,3,1)\n",
    "eff_y = tracks_metrics_before_y.RecoEff.values\n",
    "plt.title('Mean = % f' % numpy.array(eff_y).mean())\n",
    "plt.hist(eff_y, label='y')\n",
    "plt.xlabel('Reconstruction efficiency')\n",
    "plt.xlim(0, 1)\n",
    "plt.legend(loc='best')\n",
    "\n",
    "plt.subplot(1,3,2)\n",
    "eff_stereo = tracks_metrics_before_stereo.RecoEff.values\n",
    "plt.title('Mean = % f' % numpy.array(eff_stereo).mean())\n",
    "plt.hist(eff_stereo, label='stereo')\n",
    "plt.xlabel('Reconstruction efficiency')\n",
    "plt.xlim(0, 1)\n",
    "plt.legend(loc='best')\n",
    "\n",
    "plt.subplot(1,3,3)\n",
    "eff_station = tracks_metrics_before_all.RecoEff.values\n",
    "plt.title('Mean = % f' % numpy.array(eff_station).mean())\n",
    "plt.hist(eff_station, label='station 1&2')\n",
    "plt.xlabel('Reconstruction efficiency')\n",
    "plt.xlim(0, 1)\n",
    "plt.legend(loc='best')\n",
    "\n",
    "plt.show()"
   ]
  },
  {
   "cell_type": "markdown",
   "metadata": {},
   "source": [
    "# Stations 3&4"
   ]
  },
  {
   "cell_type": "markdown",
   "metadata": {},
   "source": [
    "### Y-views"
   ]
  },
  {
   "cell_type": "code",
   "execution_count": 29,
   "metadata": {
    "collapsed": false
   },
   "outputs": [
    {
     "data": {
      "text/plain": [
       "EventID      2567.573684\n",
       "AvgEff          0.995052\n",
       "RecoEff         0.992982\n",
       "GhostRate       0.001754\n",
       "CloneRate       0.004386\n",
       "dtype: float64"
      ]
     },
     "execution_count": 29,
     "metadata": {},
     "output_type": "execute_result"
    }
   ],
   "source": [
    "tracks_metrics_after_y.mean(axis=0)"
   ]
  },
  {
   "cell_type": "markdown",
   "metadata": {},
   "source": [
    "### Stereo-views"
   ]
  },
  {
   "cell_type": "code",
   "execution_count": 30,
   "metadata": {
    "collapsed": false
   },
   "outputs": [
    {
     "data": {
      "text/plain": [
       "EventID      2567.573684\n",
       "AvgEff          0.993350\n",
       "RecoEff         0.992105\n",
       "GhostRate       0.001754\n",
       "CloneRate       0.001754\n",
       "dtype: float64"
      ]
     },
     "execution_count": 30,
     "metadata": {},
     "output_type": "execute_result"
    }
   ],
   "source": [
    "tracks_metrics_after_stereo.mean(axis=0)"
   ]
  },
  {
   "cell_type": "markdown",
   "metadata": {},
   "source": [
    "### Station 3&4"
   ]
  },
  {
   "cell_type": "code",
   "execution_count": 31,
   "metadata": {
    "collapsed": false
   },
   "outputs": [
    {
     "data": {
      "text/plain": [
       "EventID      2567.573684\n",
       "AvgEff          0.993809\n",
       "RecoEff         0.992105\n",
       "GhostRate       0.001754\n",
       "CloneRate       0.005263\n",
       "dtype: float64"
      ]
     },
     "execution_count": 31,
     "metadata": {},
     "output_type": "execute_result"
    }
   ],
   "source": [
    "tracks_metrics_after_all.mean(axis=0)"
   ]
  },
  {
   "cell_type": "markdown",
   "metadata": {},
   "source": [
    "### Tracks efficiency"
   ]
  },
  {
   "cell_type": "code",
   "execution_count": 32,
   "metadata": {
    "collapsed": false
   },
   "outputs": [
    {
     "data": {
      "image/png": "[encoded data removed]",
      "text/plain": [
       "<matplotlib.figure.Figure at 0x10b31d1d0>"
      ]
     },
     "metadata": {},
     "output_type": "display_data"
    }
   ],
   "source": [
    "plt.figure(figsize=(15, 3))\n",
    "\n",
    "plt.subplot(1,3,1)\n",
    "eff_y = tracks_metrics_after_y.AvgEff.values\n",
    "plt.title('Mean = % f' % numpy.array(eff_y).mean())\n",
    "plt.hist(eff_y, label='y')\n",
    "plt.xlabel('Track efficiency')\n",
    "plt.xlim(0, 1)\n",
    "plt.legend(loc='best')\n",
    "\n",
    "plt.subplot(1,3,2)\n",
    "eff_stereo = tracks_metrics_after_stereo.AvgEff.values\n",
    "plt.title('Mean = % f' % numpy.array(eff_stereo).mean())\n",
    "plt.hist(eff_stereo, label='stereo')\n",
    "plt.xlabel('Track efficiency')\n",
    "plt.xlim(0, 1)\n",
    "plt.legend(loc='best')\n",
    "\n",
    "plt.subplot(1,3,3)\n",
    "eff_station = tracks_metrics_after_all.AvgEff.values\n",
    "plt.title('Mean = % f' % numpy.array(eff_station).mean())\n",
    "plt.hist(eff_station, label='station 3&4')\n",
    "plt.xlabel('Track efficiency')\n",
    "plt.xlim(0, 1)\n",
    "plt.legend(loc='best')\n",
    "\n",
    "plt.show()"
   ]
  },
  {
   "cell_type": "markdown",
   "metadata": {},
   "source": [
    "### Reconstruction efficiency"
   ]
  },
  {
   "cell_type": "code",
   "execution_count": 33,
   "metadata": {
    "collapsed": false
   },
   "outputs": [
    {
     "data": {
      "image/png": "[encoded data removed]",
      "text/plain": [
       "<matplotlib.figure.Figure at 0x10f5bccd0>"
      ]
     },
     "metadata": {},
     "output_type": "display_data"
    }
   ],
   "source": [
    "plt.figure(figsize=(15, 3))\n",
    "\n",
    "plt.subplot(1,3,1)\n",
    "eff_y = tracks_metrics_after_y.RecoEff.values\n",
    "plt.title('Mean = % f' % numpy.array(eff_y).mean())\n",
    "plt.hist(eff_y, label='y')\n",
    "plt.xlabel('Reconstruction efficiency')\n",
    "plt.xlim(0, 1)\n",
    "plt.legend(loc='best')\n",
    "\n",
    "plt.subplot(1,3,2)\n",
    "eff_stereo = tracks_metrics_after_stereo.RecoEff.values\n",
    "plt.title('Mean = % f' % numpy.array(eff_stereo).mean())\n",
    "plt.hist(eff_stereo, label='stereo')\n",
    "plt.xlabel('Reconstruction efficiency')\n",
    "plt.xlim(0, 1)\n",
    "plt.legend(loc='best')\n",
    "\n",
    "plt.subplot(1,3,3)\n",
    "eff_station = tracks_metrics_after_all.RecoEff.values\n",
    "plt.title('Mean = % f' % numpy.array(eff_station).mean())\n",
    "plt.hist(eff_station, label='station 3&4')\n",
    "plt.xlabel('Reconstruction efficiency')\n",
    "plt.xlim(0, 1)\n",
    "plt.legend(loc='best')\n",
    "\n",
    "plt.show()"
   ]
  },
  {
   "cell_type": "markdown",
   "metadata": {},
   "source": [
    "# Combination"
   ]
  },
  {
   "cell_type": "code",
   "execution_count": 34,
   "metadata": {
    "collapsed": false
   },
   "outputs": [
    {
     "data": {
      "text/plain": [
       "EventID      2567.573684\n",
       "RecoEff         0.985088\n",
       "GhostRate       0.013158\n",
       "CloneRate       0.002632\n",
       "NCombined       1.975439\n",
       "dtype: float64"
      ]
     },
     "execution_count": 34,
     "metadata": {},
     "output_type": "execute_result"
    }
   ],
   "source": [
    "combinations_quality.mean(axis=0)"
   ]
  },
  {
   "cell_type": "code",
   "execution_count": 35,
   "metadata": {
    "collapsed": false
   },
   "outputs": [
    {
     "data": {
      "image/png": "[encoded data removed]",
      "text/plain": [
       "<matplotlib.figure.Figure at 0x10f47c450>"
      ]
     },
     "metadata": {},
     "output_type": "display_data"
    }
   ],
   "source": [
    "plt.figure(figsize=(15, 3))\n",
    "\n",
    "plt.subplot(1,3,1)\n",
    "eff = combinations_quality.RecoEff.values\n",
    "plt.title('Mean = % f' % numpy.array(eff).mean())\n",
    "plt.hist(eff, label='RecoEff')\n",
    "plt.xlabel('Reconstruction efficiency')\n",
    "plt.xlim(0, 1)\n",
    "plt.legend(loc='best')\n",
    "\n",
    "plt.subplot(1,3,2)\n",
    "ghost = combinations_quality.GhostRate.values\n",
    "plt.title('Mean = % f' % numpy.array(ghost).mean())\n",
    "plt.hist(ghost, label='GhostRate')\n",
    "plt.xlabel('Ghost rate')\n",
    "plt.xlim(0, 1)\n",
    "plt.legend(loc='best')\n",
    "\n",
    "plt.subplot(1,3,3)\n",
    "n_combined = combinations_quality.NCombined.values\n",
    "plt.title('Mean = % f' % numpy.array(n_combined).mean())\n",
    "plt.hist(n_combined, label='NCombined')\n",
    "plt.xlabel('N combined tracks per event')\n",
    "plt.xlim(0, 2)\n",
    "plt.legend(loc='best')\n",
    "\n",
    "plt.show()"
   ]
  },
  {
   "cell_type": "markdown",
   "metadata": {},
   "source": [
    "# Ratio of the events passes through the stages"
   ]
  },
  {
   "cell_type": "code",
   "execution_count": 63,
   "metadata": {
    "collapsed": false
   },
   "outputs": [
    {
     "name": "stdout",
     "output_type": "stream",
     "text": [
      "96.8421052632\n"
     ]
    },
    {
     "data": {
      "image/png": "[encoded data removed]",
      "text/plain": [
       "<matplotlib.figure.Figure at 0x10f47cd10>"
      ]
     },
     "metadata": {},
     "output_type": "display_data"
    }
   ],
   "source": [
    "bar_labels = ['Reconstructible tracks', \n",
    "              'Y view station 1&2', \n",
    "              'Stereo station 1&2', \n",
    "              'Station 1&2',\n",
    "              'Y view station 3&4', \n",
    "              'Stereo station 3&4',\n",
    "              'Station 3&4',\n",
    "              'Combined stations 1&2/3&4',\n",
    "              'Matched']\n",
    "\n",
    "bar_values = pass_stages[pass_stages.columns[1:]].sum(axis=0).values\n",
    "bar_values = bar_values / bar_values[0] * 100\n",
    "\n",
    "\n",
    "print bar_values[-1]\n",
    "\n",
    "x = range(len(bar_labels))\n",
    "plt.figure(figsize=(12,8))\n",
    "plt.bar(x, bar_values, width=1., color='gold', align='center')\n",
    "plt.xticks(x, bar_labels, rotation=90, fontsize=25)\n",
    "plt.yticks(fontsize=25)\n",
    "plt.xlim(-0.5, 8.5)\n",
    "plt.ylim(94, 100)\n",
    "#plt.ylim(bar_values[-1], bar_values[0])\n",
    "plt.ylabel('Ratio of events, %', size=25)\n",
    "plt.grid(linewidth=1)\n",
    "plt.title('Artificial Retina', size=25)\n",
    "plt.show()"
   ]
  },
  {
   "cell_type": "code",
   "execution_count": 64,
   "metadata": {
    "collapsed": false
   },
   "outputs": [
    {
     "data": {
      "text/plain": [
       "array([ 100.        ,   98.94736842,   98.42105263,   98.24561404,\n",
       "         97.19298246,   97.01754386,   97.01754386,   96.84210526,\n",
       "         96.84210526])"
      ]
     },
     "execution_count": 64,
     "metadata": {},
     "output_type": "execute_result"
    }
   ],
   "source": [
    "bar_values"
   ]
  },
  {
   "cell_type": "code",
   "execution_count": 76,
   "metadata": {
    "collapsed": true
   },
   "outputs": [],
   "source": [
    "#event_ids = numpy.unique(data.EventID.values)\n",
    "\n",
    "def TotalEffVsTrackEff(event_ids, track_eff_cuts):\n",
    "\n",
    "    total_efficiencies = []\n",
    "    momentum_mae = []\n",
    "\n",
    "    for cut in track_eff_cuts:\n",
    "\n",
    "        combinations_true = pandas.DataFrame(columns=['EventID', 'IsTrueCombination', 'PdgCode', 'Charge', \n",
    "                                                         'IsTrueCharge', 'TruePInv', 'PErr', 'Label'])\n",
    "\n",
    "        pass_stages = pandas.DataFrame(columns=['EventID', 'RecoEvents', 'Y12', 'Stereo12', 'Stations12', \n",
    "                                                'Y34', 'Stereo34', 'Stations34', 'Combination', 'Matching'])\n",
    "\n",
    "        for event_id in event_ids:\n",
    "\n",
    "            # Get an event\n",
    "            event = data[data.EventID == event_id]\n",
    "            event12 = event[(event.StatNb == 1) + (event.StatNb == 2)]\n",
    "            event34 = event[(event.StatNb == 3) + (event.StatNb == 4)]\n",
    "\n",
    "\n",
    "            labels12 = tracks[event_id]['labels12']\n",
    "            tracks_params12 = tracks[event_id]['params12']\n",
    "            labels34 = tracks[event_id]['labels34']\n",
    "            tracks_params34 = tracks[event_id]['params34']\n",
    "\n",
    "            # Quality metrics of the reconstruction\n",
    "            trm12 = TracksReconstractionMetrics(cut, n_tracks=2)\n",
    "            trm12.fit(labels12, event12)\n",
    "\n",
    "            # Quality metrics of the reconstruction\n",
    "            trm34 = TracksReconstractionMetrics(cut, n_tracks=2)\n",
    "            trm34.fit(labels34, event34)\n",
    "\n",
    "            # Combination of the tracks before and after the magnet\n",
    "            comb = SuperCombinator(classifier=folding.estimators[0])\n",
    "            comb.combine(tracks_params12, tracks_params34)\n",
    "\n",
    "\n",
    "            # Quality of the combination\n",
    "            cq = CombinatorQuality()\n",
    "            cq.fit(labels12, labels34, comb.tracks_combinations_, comb.charges_, comb.inv_momentums_, event12, event34)\n",
    "\n",
    "\n",
    "\n",
    "            # Overall quality\n",
    "            line = numpy.array([1, \n",
    "                                 (trm12.recognition_efficiency_y_ == 1)*1, \n",
    "                                 (trm12.recognition_efficiency_stereo_ >= 1)*1, \n",
    "                                 (trm12.recognition_efficiency_ == 1)*1,\n",
    "                                 (trm34.recognition_efficiency_y_ == 1)*1, \n",
    "                                 (trm34.recognition_efficiency_stereo_ >= 1)*1, \n",
    "                                 (trm34.recognition_efficiency_ == 1)*1, \n",
    "                                 (cq.n_combined_ >= 2)*1,\n",
    "                                 (cq.reco_eff_ == 1)*1]).cumprod()\n",
    "            pass_stages.loc[len(pass_stages)] = numpy.concatenate(([event_id], line), axis=0)\n",
    "\n",
    "        bar_values = pass_stages[pass_stages.columns[1:]].sum(axis=0).values\n",
    "        bar_values = bar_values / bar_values[0] * 100\n",
    "\n",
    "        total_eff = bar_values[-1]\n",
    "        total_efficiencies.append(total_eff)\n",
    "\n",
    "    total_efficiencies = numpy.array(total_efficiencies)\n",
    "\n",
    "    return total_efficiencies"
   ]
  },
  {
   "cell_type": "code",
   "execution_count": 123,
   "metadata": {
    "collapsed": false
   },
   "outputs": [
    {
     "name": "stdout",
     "output_type": "stream",
     "text": [
      "CPU times: user 9min 44s, sys: 29.6 s, total: 10min 14s\n",
      "Wall time: 10min 30s\n"
     ]
    }
   ],
   "source": [
    "%%time\n",
    "track_eff_cuts = numpy.linspace(0, 1., 51)\n",
    "total_efficiencies = TotalEffVsTrackEff(event_ids, track_eff_cuts)"
   ]
  },
  {
   "cell_type": "code",
   "execution_count": 124,
   "metadata": {
    "collapsed": false
   },
   "outputs": [
    {
     "data": {
      "image/png": "[encoded data removed]",
      "text/plain": [
       "<matplotlib.figure.Figure at 0x1083fde50>"
      ]
     },
     "metadata": {},
     "output_type": "display_data"
    }
   ],
   "source": [
    "plt.figure(figsize=(12, 8))\n",
    "l = 'max = ' + str(numpy.round(total_efficiencies[0], 1)) + '%, ' + 'min = ' + str(numpy.round(total_efficiencies[-1], 1)) + '%'\n",
    "plt.plot(track_eff_cuts*100, total_efficiencies, linewidth=5, label=l)\n",
    "plt.legend(loc=\"best\", prop={'size':25},  shadow=True, fancybox=True)\n",
    "plt.title(\"Artificial Retina\", fontsize=25)\n",
    "plt.xlabel('Track Efficiency Threshold, %', fontsize=25)\n",
    "plt.ylabel('Total Reconstruction Efficiency, %', fontsize=25)\n",
    "plt.xticks(fontsize=25)\n",
    "plt.yticks(fontsize=25)\n",
    "plt.ylim(80, 100)\n",
    "plt.xlim(0., 100.)\n",
    "plt.grid(linewidth=1)\n",
    "plt.show()"
   ]
  },
  {
   "cell_type": "code",
   "execution_count": 79,
   "metadata": {
    "collapsed": false
   },
   "outputs": [
    {
     "data": {
      "text/plain": [
       "array([ 96.84210526,  96.84210526,  96.84210526,  96.84210526,\n",
       "        96.84210526,  96.84210526,  96.84210526,  96.84210526,\n",
       "        96.84210526,  96.84210526,  96.84210526,  96.66666667,\n",
       "        96.49122807,  95.96491228,  95.26315789,  94.21052632,\n",
       "        92.45614035,  89.29824561,  85.26315789,  83.68421053,  83.68421053])"
      ]
     },
     "execution_count": 79,
     "metadata": {},
     "output_type": "execute_result"
    }
   ],
   "source": [
    "total_efficiencies"
   ]
  },
  {
   "cell_type": "code",
   "execution_count": null,
   "metadata": {
    "collapsed": true
   },
   "outputs": [],
   "source": []
  },
  {
   "cell_type": "markdown",
   "metadata": {},
   "source": [
    "# Momentum"
   ]
  },
  {
   "cell_type": "code",
   "execution_count": 38,
   "metadata": {
    "collapsed": false
   },
   "outputs": [],
   "source": [
    "passed_events = event_ids[pass_stages.Matching.values == 1]\n",
    "p_err = combinations_true[combinations_true.EventID.isin(passed_events)].PErr.values"
   ]
  },
  {
   "cell_type": "code",
   "execution_count": 128,
   "metadata": {
    "collapsed": false
   },
   "outputs": [
    {
     "data": {
      "image/png": "[encoded data removed]",
      "text/plain": [
       "<matplotlib.figure.Figure at 0x108391f50>"
      ]
     },
     "metadata": {},
     "output_type": "display_data"
    }
   ],
   "source": [
    "plt.figure(figsize=(12, 8))\n",
    "q = -p_err[numpy.isfinite(p_err)*(numpy.abs(p_err)<=0.7)]\n",
    "l = 'mean = ' + str(numpy.round(q.mean(), 3)) + ', std = ' + str(numpy.round(q.std(), 3))\n",
    "plt.hist(q, bins=50, normed=False, label=l, color='gold')\n",
    "#plt.hist(p_err[numpy.isfinite(p_err)], bins=50)\n",
    "\n",
    "plt.title('Artificial Retina', size=25)\n",
    "plt.legend(loc=\"best\", prop={'size':25},  shadow=True, fancybox=True)\n",
    "#plt.title(\"TrackEff vs RecoEff\", fontsize=25)\n",
    "plt.xlabel('(p - p-true)/p_true', fontsize=25)\n",
    "plt.ylabel('Number of Tracks', fontsize=25)\n",
    "plt.xticks(fontsize=25)\n",
    "plt.yticks(fontsize=25)\n",
    "plt.ylim(0, 250)\n",
    "plt.xlim(-0.7, 0.7)\n",
    "plt.grid(linewidth=1)\n",
    "plt.show()"
   ]
  },
  {
   "cell_type": "code",
   "execution_count": 110,
   "metadata": {
    "collapsed": false
   },
   "outputs": [
    {
     "data": {
      "text/plain": [
       "(-0.021869511194228593, 0.14852650793612379)"
      ]
     },
     "execution_count": 110,
     "metadata": {},
     "output_type": "execute_result"
    }
   ],
   "source": [
    "q = p_err[numpy.isfinite(p_err)*(numpy.abs(p_err)<=0.7)]\n",
    "q.mean(), q.std()"
   ]
  },
  {
   "cell_type": "code",
   "execution_count": 91,
   "metadata": {
    "collapsed": false
   },
   "outputs": [
    {
     "data": {
      "image/png": "[encoded data removed]",
      "text/plain": [
       "<matplotlib.figure.Figure at 0x10f8c9710>"
      ]
     },
     "metadata": {},
     "output_type": "display_data"
    }
   ],
   "source": [
    "plt.figure(figsize=(7, 5))\n",
    "plt.hist(p_err[numpy.isfinite(p_err)*(numpy.abs(p_err)>0.5)], bins=30)\n",
    "#plt.hist(p_err[numpy.isfinite(p_err)], bins=50)\n",
    "\n",
    "plt.title('(p - p-true)/p_true', size=15)\n",
    "#plt.xticks(numpy.arange(-0.5, 0.51, 0.1), size=12)\n",
    "plt.yticks(size=12)\n",
    "#plt.xlim(-0.5, 0.5)\n",
    "plt.show()"
   ]
  },
  {
   "cell_type": "code",
   "execution_count": 87,
   "metadata": {
    "collapsed": false
   },
   "outputs": [
    {
     "data": {
      "text/plain": [
       "6"
      ]
     },
     "execution_count": 87,
     "metadata": {},
     "output_type": "execute_result"
    }
   ],
   "source": [
    "len(p_err) - len(p_err[numpy.isfinite(p_err)])"
   ]
  },
  {
   "cell_type": "code",
   "execution_count": 41,
   "metadata": {
    "collapsed": false
   },
   "outputs": [
    {
     "name": "stdout",
     "output_type": "stream",
     "text": [
      "5.53293379262e+13\n"
     ]
    }
   ],
   "source": [
    "print numpy.abs(p_err[numpy.isfinite(p_err)]).mean() * 100"
   ]
  },
  {
   "cell_type": "code",
   "execution_count": 42,
   "metadata": {
    "collapsed": false
   },
   "outputs": [
    {
     "data": {
      "text/plain": [
       "0.21052631578947367"
      ]
     },
     "execution_count": 42,
     "metadata": {},
     "output_type": "execute_result"
    }
   ],
   "source": [
    "120./570"
   ]
  },
  {
   "cell_type": "code",
   "execution_count": 43,
   "metadata": {
    "collapsed": false
   },
   "outputs": [
    {
     "data": {
      "text/html": [
       "<div>\n",
       "<table border=\"1\" class=\"dataframe\">\n",
       "  <thead>\n",
       "    <tr style=\"text-align: right;\">\n",
       "      <th></th>\n",
       "      <th>EventID</th>\n",
       "      <th>IsTrueCombination</th>\n",
       "      <th>PdgCode</th>\n",
       "      <th>Charge</th>\n",
       "      <th>IsTrueCharge</th>\n",
       "      <th>TruePInv</th>\n",
       "      <th>PErr</th>\n",
       "      <th>Label</th>\n",
       "    </tr>\n",
       "  </thead>\n",
       "  <tbody>\n",
       "    <tr>\n",
       "      <th>21</th>\n",
       "      <td>670</td>\n",
       "      <td>1</td>\n",
       "      <td>-13</td>\n",
       "      <td>1</td>\n",
       "      <td>1</td>\n",
       "      <td>0.029773</td>\n",
       "      <td>8.953599e-01</td>\n",
       "      <td>1</td>\n",
       "    </tr>\n",
       "    <tr>\n",
       "      <th>24</th>\n",
       "      <td>2779</td>\n",
       "      <td>1</td>\n",
       "      <td>-13</td>\n",
       "      <td>1</td>\n",
       "      <td>1</td>\n",
       "      <td>0.011802</td>\n",
       "      <td>1.429266e+00</td>\n",
       "      <td>1</td>\n",
       "    </tr>\n",
       "    <tr>\n",
       "      <th>27</th>\n",
       "      <td>1724</td>\n",
       "      <td>1</td>\n",
       "      <td>-13</td>\n",
       "      <td>1</td>\n",
       "      <td>1</td>\n",
       "      <td>0.086879</td>\n",
       "      <td>6.263709e-01</td>\n",
       "      <td>1</td>\n",
       "    </tr>\n",
       "    <tr>\n",
       "      <th>44</th>\n",
       "      <td>2872</td>\n",
       "      <td>1</td>\n",
       "      <td>-211</td>\n",
       "      <td>-1</td>\n",
       "      <td>1</td>\n",
       "      <td>-0.022424</td>\n",
       "      <td>5.866180e-01</td>\n",
       "      <td>0</td>\n",
       "    </tr>\n",
       "    <tr>\n",
       "      <th>122</th>\n",
       "      <td>927</td>\n",
       "      <td>1</td>\n",
       "      <td>-211</td>\n",
       "      <td>-1</td>\n",
       "      <td>1</td>\n",
       "      <td>-0.015920</td>\n",
       "      <td>6.966004e-01</td>\n",
       "      <td>0</td>\n",
       "    </tr>\n",
       "    <tr>\n",
       "      <th>137</th>\n",
       "      <td>1023</td>\n",
       "      <td>1</td>\n",
       "      <td>13</td>\n",
       "      <td>-1</td>\n",
       "      <td>1</td>\n",
       "      <td>-0.026312</td>\n",
       "      <td>-6.231951e-01</td>\n",
       "      <td>1</td>\n",
       "    </tr>\n",
       "    <tr>\n",
       "      <th>155</th>\n",
       "      <td>1377</td>\n",
       "      <td>1</td>\n",
       "      <td>-211</td>\n",
       "      <td>-1</td>\n",
       "      <td>1</td>\n",
       "      <td>-0.015093</td>\n",
       "      <td>2.173493e+00</td>\n",
       "      <td>0</td>\n",
       "    </tr>\n",
       "    <tr>\n",
       "      <th>191</th>\n",
       "      <td>1637</td>\n",
       "      <td>1</td>\n",
       "      <td>-13</td>\n",
       "      <td>1</td>\n",
       "      <td>1</td>\n",
       "      <td>0.026257</td>\n",
       "      <td>5.574326e-01</td>\n",
       "      <td>1</td>\n",
       "    </tr>\n",
       "    <tr>\n",
       "      <th>292</th>\n",
       "      <td>3161</td>\n",
       "      <td>1</td>\n",
       "      <td>-13</td>\n",
       "      <td>1</td>\n",
       "      <td>1</td>\n",
       "      <td>0.014051</td>\n",
       "      <td>1.756032e+00</td>\n",
       "      <td>1</td>\n",
       "    </tr>\n",
       "    <tr>\n",
       "      <th>338</th>\n",
       "      <td>735</td>\n",
       "      <td>1</td>\n",
       "      <td>211</td>\n",
       "      <td>1</td>\n",
       "      <td>1</td>\n",
       "      <td>0.018522</td>\n",
       "      <td>5.508831e-01</td>\n",
       "      <td>0</td>\n",
       "    </tr>\n",
       "    <tr>\n",
       "      <th>422</th>\n",
       "      <td>2305</td>\n",
       "      <td>1</td>\n",
       "      <td>13</td>\n",
       "      <td>-1</td>\n",
       "      <td>1</td>\n",
       "      <td>-0.025034</td>\n",
       "      <td>1.617545e+00</td>\n",
       "      <td>1</td>\n",
       "    </tr>\n",
       "    <tr>\n",
       "      <th>427</th>\n",
       "      <td>1704</td>\n",
       "      <td>1</td>\n",
       "      <td>-211</td>\n",
       "      <td>-1</td>\n",
       "      <td>1</td>\n",
       "      <td>-0.014915</td>\n",
       "      <td>7.023428e-01</td>\n",
       "      <td>0</td>\n",
       "    </tr>\n",
       "    <tr>\n",
       "      <th>476</th>\n",
       "      <td>3864</td>\n",
       "      <td>1</td>\n",
       "      <td>211</td>\n",
       "      <td>1</td>\n",
       "      <td>1</td>\n",
       "      <td>0.016774</td>\n",
       "      <td>7.883709e-01</td>\n",
       "      <td>0</td>\n",
       "    </tr>\n",
       "    <tr>\n",
       "      <th>534</th>\n",
       "      <td>901</td>\n",
       "      <td>1</td>\n",
       "      <td>211</td>\n",
       "      <td>1</td>\n",
       "      <td>1</td>\n",
       "      <td>0.019348</td>\n",
       "      <td>6.129927e-01</td>\n",
       "      <td>0</td>\n",
       "    </tr>\n",
       "    <tr>\n",
       "      <th>537</th>\n",
       "      <td>1775</td>\n",
       "      <td>1</td>\n",
       "      <td>-211</td>\n",
       "      <td>-1</td>\n",
       "      <td>1</td>\n",
       "      <td>-0.012225</td>\n",
       "      <td>5.568126e+14</td>\n",
       "      <td>0</td>\n",
       "    </tr>\n",
       "    <tr>\n",
       "      <th>564</th>\n",
       "      <td>4198</td>\n",
       "      <td>1</td>\n",
       "      <td>211</td>\n",
       "      <td>1</td>\n",
       "      <td>1</td>\n",
       "      <td>0.019207</td>\n",
       "      <td>9.721143e-01</td>\n",
       "      <td>0</td>\n",
       "    </tr>\n",
       "    <tr>\n",
       "      <th>634</th>\n",
       "      <td>2378</td>\n",
       "      <td>1</td>\n",
       "      <td>211</td>\n",
       "      <td>1</td>\n",
       "      <td>1</td>\n",
       "      <td>0.035694</td>\n",
       "      <td>8.682513e-01</td>\n",
       "      <td>0</td>\n",
       "    </tr>\n",
       "    <tr>\n",
       "      <th>695</th>\n",
       "      <td>3442</td>\n",
       "      <td>1</td>\n",
       "      <td>13</td>\n",
       "      <td>-1</td>\n",
       "      <td>1</td>\n",
       "      <td>-0.014387</td>\n",
       "      <td>5.330529e-01</td>\n",
       "      <td>1</td>\n",
       "    </tr>\n",
       "    <tr>\n",
       "      <th>804</th>\n",
       "      <td>3290</td>\n",
       "      <td>1</td>\n",
       "      <td>211</td>\n",
       "      <td>1</td>\n",
       "      <td>1</td>\n",
       "      <td>0.008898</td>\n",
       "      <td>8.920357e-01</td>\n",
       "      <td>0</td>\n",
       "    </tr>\n",
       "    <tr>\n",
       "      <th>943</th>\n",
       "      <td>3084</td>\n",
       "      <td>1</td>\n",
       "      <td>-211</td>\n",
       "      <td>-1</td>\n",
       "      <td>0</td>\n",
       "      <td>-0.011246</td>\n",
       "      <td>-5.402328e+13</td>\n",
       "      <td>0</td>\n",
       "    </tr>\n",
       "    <tr>\n",
       "      <th>946</th>\n",
       "      <td>3511</td>\n",
       "      <td>1</td>\n",
       "      <td>211</td>\n",
       "      <td>1</td>\n",
       "      <td>1</td>\n",
       "      <td>0.011093</td>\n",
       "      <td>1.451383e+00</td>\n",
       "      <td>0</td>\n",
       "    </tr>\n",
       "    <tr>\n",
       "      <th>1012</th>\n",
       "      <td>1385</td>\n",
       "      <td>1</td>\n",
       "      <td>13</td>\n",
       "      <td>-1</td>\n",
       "      <td>1</td>\n",
       "      <td>-0.162050</td>\n",
       "      <td>7.960803e-01</td>\n",
       "      <td>1</td>\n",
       "    </tr>\n",
       "    <tr>\n",
       "      <th>1083</th>\n",
       "      <td>707</td>\n",
       "      <td>1</td>\n",
       "      <td>-211</td>\n",
       "      <td>-1</td>\n",
       "      <td>1</td>\n",
       "      <td>-0.016825</td>\n",
       "      <td>7.524758e-01</td>\n",
       "      <td>0</td>\n",
       "    </tr>\n",
       "    <tr>\n",
       "      <th>1104</th>\n",
       "      <td>1895</td>\n",
       "      <td>1</td>\n",
       "      <td>13</td>\n",
       "      <td>-1</td>\n",
       "      <td>1</td>\n",
       "      <td>-0.014937</td>\n",
       "      <td>5.422737e-01</td>\n",
       "      <td>1</td>\n",
       "    </tr>\n",
       "    <tr>\n",
       "      <th>1107</th>\n",
       "      <td>3476</td>\n",
       "      <td>1</td>\n",
       "      <td>-211</td>\n",
       "      <td>-1</td>\n",
       "      <td>1</td>\n",
       "      <td>-0.045714</td>\n",
       "      <td>7.673517e-01</td>\n",
       "      <td>0</td>\n",
       "    </tr>\n",
       "    <tr>\n",
       "      <th>1113</th>\n",
       "      <td>3069</td>\n",
       "      <td>1</td>\n",
       "      <td>-13</td>\n",
       "      <td>1</td>\n",
       "      <td>1</td>\n",
       "      <td>0.017997</td>\n",
       "      <td>8.695062e-01</td>\n",
       "      <td>1</td>\n",
       "    </tr>\n",
       "    <tr>\n",
       "      <th>1139</th>\n",
       "      <td>159</td>\n",
       "      <td>1</td>\n",
       "      <td>-211</td>\n",
       "      <td>-1</td>\n",
       "      <td>1</td>\n",
       "      <td>-0.008745</td>\n",
       "      <td>5.549527e-01</td>\n",
       "      <td>0</td>\n",
       "    </tr>\n",
       "  </tbody>\n",
       "</table>\n",
       "</div>"
      ],
      "text/plain": [
       "      EventID  IsTrueCombination  PdgCode  Charge  IsTrueCharge  TruePInv  \\\n",
       "21        670                  1      -13       1             1  0.029773   \n",
       "24       2779                  1      -13       1             1  0.011802   \n",
       "27       1724                  1      -13       1             1  0.086879   \n",
       "44       2872                  1     -211      -1             1 -0.022424   \n",
       "122       927                  1     -211      -1             1 -0.015920   \n",
       "137      1023                  1       13      -1             1 -0.026312   \n",
       "155      1377                  1     -211      -1             1 -0.015093   \n",
       "191      1637                  1      -13       1             1  0.026257   \n",
       "292      3161                  1      -13       1             1  0.014051   \n",
       "338       735                  1      211       1             1  0.018522   \n",
       "422      2305                  1       13      -1             1 -0.025034   \n",
       "427      1704                  1     -211      -1             1 -0.014915   \n",
       "476      3864                  1      211       1             1  0.016774   \n",
       "534       901                  1      211       1             1  0.019348   \n",
       "537      1775                  1     -211      -1             1 -0.012225   \n",
       "564      4198                  1      211       1             1  0.019207   \n",
       "634      2378                  1      211       1             1  0.035694   \n",
       "695      3442                  1       13      -1             1 -0.014387   \n",
       "804      3290                  1      211       1             1  0.008898   \n",
       "943      3084                  1     -211      -1             0 -0.011246   \n",
       "946      3511                  1      211       1             1  0.011093   \n",
       "1012     1385                  1       13      -1             1 -0.162050   \n",
       "1083      707                  1     -211      -1             1 -0.016825   \n",
       "1104     1895                  1       13      -1             1 -0.014937   \n",
       "1107     3476                  1     -211      -1             1 -0.045714   \n",
       "1113     3069                  1      -13       1             1  0.017997   \n",
       "1139      159                  1     -211      -1             1 -0.008745   \n",
       "\n",
       "              PErr  Label  \n",
       "21    8.953599e-01      1  \n",
       "24    1.429266e+00      1  \n",
       "27    6.263709e-01      1  \n",
       "44    5.866180e-01      0  \n",
       "122   6.966004e-01      0  \n",
       "137  -6.231951e-01      1  \n",
       "155   2.173493e+00      0  \n",
       "191   5.574326e-01      1  \n",
       "292   1.756032e+00      1  \n",
       "338   5.508831e-01      0  \n",
       "422   1.617545e+00      1  \n",
       "427   7.023428e-01      0  \n",
       "476   7.883709e-01      0  \n",
       "534   6.129927e-01      0  \n",
       "537   5.568126e+14      0  \n",
       "564   9.721143e-01      0  \n",
       "634   8.682513e-01      0  \n",
       "695   5.330529e-01      1  \n",
       "804   8.920357e-01      0  \n",
       "943  -5.402328e+13      0  \n",
       "946   1.451383e+00      0  \n",
       "1012  7.960803e-01      1  \n",
       "1083  7.524758e-01      0  \n",
       "1104  5.422737e-01      1  \n",
       "1107  7.673517e-01      0  \n",
       "1113  8.695062e-01      1  \n",
       "1139  5.549527e-01      0  "
      ]
     },
     "execution_count": 43,
     "metadata": {},
     "output_type": "execute_result"
    }
   ],
   "source": [
    "combinations_true[numpy.abs(combinations_true.PErr.values) >= 0.5 ]"
   ]
  },
  {
   "cell_type": "code",
   "execution_count": 44,
   "metadata": {
    "collapsed": false
   },
   "outputs": [
    {
     "data": {
      "image/png": "[encoded data removed]",
      "text/plain": [
       "<matplotlib.figure.Figure at 0x10f757310>"
      ]
     },
     "metadata": {},
     "output_type": "display_data"
    }
   ],
   "source": [
    "plot_event(670, data, tracks)"
   ]
  },
  {
   "cell_type": "code",
   "execution_count": 45,
   "metadata": {
    "collapsed": false
   },
   "outputs": [
    {
     "data": {
      "image/png": "[encoded data removed]",
      "text/plain": [
       "<matplotlib.figure.Figure at 0x10f5b1190>"
      ]
     },
     "metadata": {},
     "output_type": "display_data"
    }
   ],
   "source": [
    "event = data[data.EventID == 670]\n",
    "track = event[(event.ViewNb != 1)*(event.ViewNb != 2)*(event.Label == 0)]\n",
    "\n",
    "track_before = track[(track.StatNb==1)+(track.StatNb==2)]\n",
    "track_after = track[(track.StatNb==3)+(track.StatNb==4)]\n",
    "\n",
    "k_before, b_before= numpy.polyfit(track_before.Wz1.values, track_before.Wy1.values, 1)\n",
    "k_after, b_after = numpy.polyfit(track_after.Wz1.values, track_after.Wy1.values, 1)\n",
    "\n",
    "k_before_true, b_before_true= numpy.polyfit(track_before.Z.values, track_before.Y.values, 1)\n",
    "k_after_true, b_after_true = numpy.polyfit(track_after.Z.values, track_after.Y.values, 1)\n",
    "\n",
    "from matplotlib.patches import Circle\n",
    "\n",
    "fig = plt.figure(figsize=(10, 7))\n",
    "ax = fig.add_subplot(1, 1, 1)\n",
    "\n",
    "plt.scatter(track.Wz1.values, track.Wy1.values)\n",
    "plt.scatter(track.Z.values, track.Y.values, color='r')\n",
    "\n",
    "z_before = numpy.append(track_before.Wz1.values, [3070])\n",
    "plt.plot(z_before, z_before * k_before + b_before)\n",
    "plt.plot(z_before, z_before * k_before_true + b_before_true, color='0')\n",
    "\n",
    "z_after = numpy.append(track_after.Wz1.values, [3070])\n",
    "plt.plot(z_after, z_after * k_after + b_after)\n",
    "plt.plot(z_after, z_after * k_after_true + b_after_true, color='0')\n",
    "\n",
    "plt.plot([3070, 3070], [track.Wy1.values.min(), track.Wy1.values.max()], color='0')\n",
    "\n",
    "\n",
    "for i, txt in enumerate(track.StrawNb.values):\n",
    "    #plt.annotate(txt, (track.Wz1.values[i],track.Wy1.values[i]))\n",
    "    e  = plt.Circle(xy=(track.Wz1.values[i],track.Wy1.values[i]), radius=0.5, color='b', fill=False)\n",
    "    ax.add_patch(e)\n",
    "    \n",
    "    \n",
    "plt.show()"
   ]
  },
  {
   "cell_type": "code",
   "execution_count": null,
   "metadata": {
    "collapsed": true
   },
   "outputs": [],
   "source": []
  },
  {
   "cell_type": "markdown",
   "metadata": {},
   "source": [
    "# Efficiency per track"
   ]
  },
  {
   "cell_type": "code",
   "execution_count": 46,
   "metadata": {
    "collapsed": false
   },
   "outputs": [
    {
     "data": {
      "image/png": "[encoded data removed]",
      "text/plain": [
       "<matplotlib.figure.Figure at 0x10f42bad0>"
      ]
     },
     "metadata": {},
     "output_type": "display_data"
    }
   ],
   "source": [
    "from utils import *\n",
    "\n",
    "tracks_eff = get_effs_per_track_and_p(tracks, data, event_ids)\n",
    "\n",
    "x_means, y_means, x_err, y_err = get_bins(tracks_eff.Momentum.values,\n",
    "                                          tracks_eff.Eff.values,\n",
    "                                          20,\n",
    "                                          tracks_eff.Momentum.values.min(),\n",
    "                                          tracks_eff.Momentum.values.max())\n",
    "\n",
    "plt.figure(figsize=(10, 7))\n",
    "plt.errorbar(x_means, y_means, xerr=x_err, yerr=y_err, fmt='none')\n",
    "plt.scatter(x_means, y_means, linewidth=0, color='r')\n",
    "plt.ylim(0.0, 1.05)\n",
    "plt.xlim(0, x_means[-1]+x_err[-1]+1)\n",
    "plt.xlabel('Particle Momentum', size=15)\n",
    "plt.ylabel('Efficiency per track', size=15)\n",
    "plt.xticks(size=15)\n",
    "plt.yticks(size=15)\n",
    "plt.show()"
   ]
  },
  {
   "cell_type": "markdown",
   "metadata": {
    "collapsed": true
   },
   "source": [
    "# Did not recognized tracks"
   ]
  },
  {
   "cell_type": "code",
   "execution_count": 47,
   "metadata": {
    "collapsed": false
   },
   "outputs": [
    {
     "data": {
      "text/html": [
       "<div>\n",
       "<table border=\"1\" class=\"dataframe\">\n",
       "  <thead>\n",
       "    <tr style=\"text-align: right;\">\n",
       "      <th></th>\n",
       "      <th>EventID</th>\n",
       "      <th>RecoEvents</th>\n",
       "      <th>Y12</th>\n",
       "      <th>Stereo12</th>\n",
       "      <th>Stations12</th>\n",
       "      <th>Y34</th>\n",
       "      <th>Stereo34</th>\n",
       "      <th>Stations34</th>\n",
       "      <th>Combination</th>\n",
       "      <th>Matching</th>\n",
       "    </tr>\n",
       "  </thead>\n",
       "  <tbody>\n",
       "    <tr>\n",
       "      <th>26</th>\n",
       "      <td>2040</td>\n",
       "      <td>1</td>\n",
       "      <td>0</td>\n",
       "      <td>0</td>\n",
       "      <td>0</td>\n",
       "      <td>0</td>\n",
       "      <td>0</td>\n",
       "      <td>0</td>\n",
       "      <td>0</td>\n",
       "      <td>0</td>\n",
       "    </tr>\n",
       "    <tr>\n",
       "      <th>69</th>\n",
       "      <td>1023</td>\n",
       "      <td>1</td>\n",
       "      <td>1</td>\n",
       "      <td>0</td>\n",
       "      <td>0</td>\n",
       "      <td>0</td>\n",
       "      <td>0</td>\n",
       "      <td>0</td>\n",
       "      <td>0</td>\n",
       "      <td>0</td>\n",
       "    </tr>\n",
       "    <tr>\n",
       "      <th>73</th>\n",
       "      <td>3085</td>\n",
       "      <td>1</td>\n",
       "      <td>0</td>\n",
       "      <td>0</td>\n",
       "      <td>0</td>\n",
       "      <td>0</td>\n",
       "      <td>0</td>\n",
       "      <td>0</td>\n",
       "      <td>0</td>\n",
       "      <td>0</td>\n",
       "    </tr>\n",
       "    <tr>\n",
       "      <th>84</th>\n",
       "      <td>4580</td>\n",
       "      <td>1</td>\n",
       "      <td>0</td>\n",
       "      <td>0</td>\n",
       "      <td>0</td>\n",
       "      <td>0</td>\n",
       "      <td>0</td>\n",
       "      <td>0</td>\n",
       "      <td>0</td>\n",
       "      <td>0</td>\n",
       "    </tr>\n",
       "    <tr>\n",
       "      <th>114</th>\n",
       "      <td>2277</td>\n",
       "      <td>1</td>\n",
       "      <td>0</td>\n",
       "      <td>0</td>\n",
       "      <td>0</td>\n",
       "      <td>0</td>\n",
       "      <td>0</td>\n",
       "      <td>0</td>\n",
       "      <td>0</td>\n",
       "      <td>0</td>\n",
       "    </tr>\n",
       "    <tr>\n",
       "      <th>116</th>\n",
       "      <td>1722</td>\n",
       "      <td>1</td>\n",
       "      <td>1</td>\n",
       "      <td>0</td>\n",
       "      <td>0</td>\n",
       "      <td>0</td>\n",
       "      <td>0</td>\n",
       "      <td>0</td>\n",
       "      <td>0</td>\n",
       "      <td>0</td>\n",
       "    </tr>\n",
       "    <tr>\n",
       "      <th>130</th>\n",
       "      <td>3253</td>\n",
       "      <td>1</td>\n",
       "      <td>0</td>\n",
       "      <td>0</td>\n",
       "      <td>0</td>\n",
       "      <td>0</td>\n",
       "      <td>0</td>\n",
       "      <td>0</td>\n",
       "      <td>0</td>\n",
       "      <td>0</td>\n",
       "    </tr>\n",
       "    <tr>\n",
       "      <th>132</th>\n",
       "      <td>1668</td>\n",
       "      <td>1</td>\n",
       "      <td>1</td>\n",
       "      <td>1</td>\n",
       "      <td>1</td>\n",
       "      <td>0</td>\n",
       "      <td>0</td>\n",
       "      <td>0</td>\n",
       "      <td>0</td>\n",
       "      <td>0</td>\n",
       "    </tr>\n",
       "    <tr>\n",
       "      <th>272</th>\n",
       "      <td>2762</td>\n",
       "      <td>1</td>\n",
       "      <td>1</td>\n",
       "      <td>1</td>\n",
       "      <td>1</td>\n",
       "      <td>1</td>\n",
       "      <td>0</td>\n",
       "      <td>0</td>\n",
       "      <td>0</td>\n",
       "      <td>0</td>\n",
       "    </tr>\n",
       "    <tr>\n",
       "      <th>292</th>\n",
       "      <td>1180</td>\n",
       "      <td>1</td>\n",
       "      <td>1</td>\n",
       "      <td>0</td>\n",
       "      <td>0</td>\n",
       "      <td>0</td>\n",
       "      <td>0</td>\n",
       "      <td>0</td>\n",
       "      <td>0</td>\n",
       "      <td>0</td>\n",
       "    </tr>\n",
       "    <tr>\n",
       "      <th>310</th>\n",
       "      <td>143</td>\n",
       "      <td>1</td>\n",
       "      <td>1</td>\n",
       "      <td>1</td>\n",
       "      <td>1</td>\n",
       "      <td>0</td>\n",
       "      <td>0</td>\n",
       "      <td>0</td>\n",
       "      <td>0</td>\n",
       "      <td>0</td>\n",
       "    </tr>\n",
       "    <tr>\n",
       "      <th>344</th>\n",
       "      <td>4490</td>\n",
       "      <td>1</td>\n",
       "      <td>1</td>\n",
       "      <td>1</td>\n",
       "      <td>1</td>\n",
       "      <td>0</td>\n",
       "      <td>0</td>\n",
       "      <td>0</td>\n",
       "      <td>0</td>\n",
       "      <td>0</td>\n",
       "    </tr>\n",
       "    <tr>\n",
       "      <th>408</th>\n",
       "      <td>3165</td>\n",
       "      <td>1</td>\n",
       "      <td>1</td>\n",
       "      <td>1</td>\n",
       "      <td>0</td>\n",
       "      <td>0</td>\n",
       "      <td>0</td>\n",
       "      <td>0</td>\n",
       "      <td>0</td>\n",
       "      <td>0</td>\n",
       "    </tr>\n",
       "    <tr>\n",
       "      <th>417</th>\n",
       "      <td>3406</td>\n",
       "      <td>1</td>\n",
       "      <td>0</td>\n",
       "      <td>0</td>\n",
       "      <td>0</td>\n",
       "      <td>0</td>\n",
       "      <td>0</td>\n",
       "      <td>0</td>\n",
       "      <td>0</td>\n",
       "      <td>0</td>\n",
       "    </tr>\n",
       "    <tr>\n",
       "      <th>445</th>\n",
       "      <td>270</td>\n",
       "      <td>1</td>\n",
       "      <td>1</td>\n",
       "      <td>1</td>\n",
       "      <td>1</td>\n",
       "      <td>0</td>\n",
       "      <td>0</td>\n",
       "      <td>0</td>\n",
       "      <td>0</td>\n",
       "      <td>0</td>\n",
       "    </tr>\n",
       "    <tr>\n",
       "      <th>487</th>\n",
       "      <td>1528</td>\n",
       "      <td>1</td>\n",
       "      <td>1</td>\n",
       "      <td>1</td>\n",
       "      <td>1</td>\n",
       "      <td>0</td>\n",
       "      <td>0</td>\n",
       "      <td>0</td>\n",
       "      <td>0</td>\n",
       "      <td>0</td>\n",
       "    </tr>\n",
       "    <tr>\n",
       "      <th>497</th>\n",
       "      <td>1756</td>\n",
       "      <td>1</td>\n",
       "      <td>1</td>\n",
       "      <td>1</td>\n",
       "      <td>1</td>\n",
       "      <td>1</td>\n",
       "      <td>1</td>\n",
       "      <td>1</td>\n",
       "      <td>0</td>\n",
       "      <td>0</td>\n",
       "    </tr>\n",
       "    <tr>\n",
       "      <th>564</th>\n",
       "      <td>3781</td>\n",
       "      <td>1</td>\n",
       "      <td>1</td>\n",
       "      <td>1</td>\n",
       "      <td>1</td>\n",
       "      <td>0</td>\n",
       "      <td>0</td>\n",
       "      <td>0</td>\n",
       "      <td>0</td>\n",
       "      <td>0</td>\n",
       "    </tr>\n",
       "  </tbody>\n",
       "</table>\n",
       "</div>"
      ],
      "text/plain": [
       "     EventID  RecoEvents  Y12  Stereo12  Stations12  Y34  Stereo34  \\\n",
       "26      2040           1    0         0           0    0         0   \n",
       "69      1023           1    1         0           0    0         0   \n",
       "73      3085           1    0         0           0    0         0   \n",
       "84      4580           1    0         0           0    0         0   \n",
       "114     2277           1    0         0           0    0         0   \n",
       "116     1722           1    1         0           0    0         0   \n",
       "130     3253           1    0         0           0    0         0   \n",
       "132     1668           1    1         1           1    0         0   \n",
       "272     2762           1    1         1           1    1         0   \n",
       "292     1180           1    1         0           0    0         0   \n",
       "310      143           1    1         1           1    0         0   \n",
       "344     4490           1    1         1           1    0         0   \n",
       "408     3165           1    1         1           0    0         0   \n",
       "417     3406           1    0         0           0    0         0   \n",
       "445      270           1    1         1           1    0         0   \n",
       "487     1528           1    1         1           1    0         0   \n",
       "497     1756           1    1         1           1    1         1   \n",
       "564     3781           1    1         1           1    0         0   \n",
       "\n",
       "     Stations34  Combination  Matching  \n",
       "26            0            0         0  \n",
       "69            0            0         0  \n",
       "73            0            0         0  \n",
       "84            0            0         0  \n",
       "114           0            0         0  \n",
       "116           0            0         0  \n",
       "130           0            0         0  \n",
       "132           0            0         0  \n",
       "272           0            0         0  \n",
       "292           0            0         0  \n",
       "310           0            0         0  \n",
       "344           0            0         0  \n",
       "408           0            0         0  \n",
       "417           0            0         0  \n",
       "445           0            0         0  \n",
       "487           0            0         0  \n",
       "497           1            0         0  \n",
       "564           0            0         0  "
      ]
     },
     "execution_count": 47,
     "metadata": {},
     "output_type": "execute_result"
    }
   ],
   "source": [
    "pass_stages[pass_stages.Matching.values == 0]"
   ]
  },
  {
   "cell_type": "code",
   "execution_count": 48,
   "metadata": {
    "collapsed": true
   },
   "outputs": [],
   "source": [
    "bad_events = pass_stages[pass_stages.Matching.values == 0]['EventID'].values"
   ]
  },
  {
   "cell_type": "code",
   "execution_count": 49,
   "metadata": {
    "collapsed": false,
    "scrolled": false
   },
   "outputs": [],
   "source": [
    "# for event_id in bad_events:\n",
    "#     print event_id\n",
    "#     plot_event(event_id, data, tracks)"
   ]
  },
  {
   "cell_type": "code",
   "execution_count": null,
   "metadata": {
    "collapsed": true
   },
   "outputs": [],
   "source": []
  }
 ],
 "metadata": {
  "kernelspec": {
   "display_name": "Python 2",
   "language": "python",
   "name": "python2"
  },
  "language_info": {
   "codemirror_mode": {
    "name": "ipython",
    "version": 2
   },
   "file_extension": ".py",
   "mimetype": "text/x-python",
   "name": "python",
   "nbconvert_exporter": "python",
   "pygments_lexer": "ipython2",
   "version": "2.7.11"
  }
 },
 "nbformat": 4,
 "nbformat_minor": 0
}
