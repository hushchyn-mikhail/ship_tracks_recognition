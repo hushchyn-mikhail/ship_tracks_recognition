{
 "cells": [
  {
   "cell_type": "code",
   "execution_count": 1,
   "metadata": {
    "collapsed": true
   },
   "outputs": [],
   "source": [
    "import warnings\n",
    "warnings.filterwarnings('ignore')"
   ]
  },
  {
   "cell_type": "code",
   "execution_count": 2,
   "metadata": {
    "collapsed": false
   },
   "outputs": [
    {
     "data": {
      "application/javascript": [
       "require(['codemirror/mode/clike/clike'], function(Clike) { console.log('ROOTaaS - C++ CodeMirror module loaded'); });"
      ]
     },
     "metadata": {},
     "output_type": "display_data"
    },
    {
     "data": {
      "application/javascript": [
       "IPython.CodeCell.config_defaults.highlight_modes['magic_text/x-c++src'] = {'reg':[/^%%cpp/]};"
      ]
     },
     "metadata": {},
     "output_type": "display_data"
    },
    {
     "name": "stdout",
     "output_type": "stream",
     "text": [
      "Welcome to ROOTaaS 6.06/08\n"
     ]
    }
   ],
   "source": [
    "import numpy, ROOT\n",
    "\n",
    "import os, sys\n",
    "sys.path.append('../functions')"
   ]
  },
  {
   "cell_type": "markdown",
   "metadata": {
    "collapsed": true
   },
   "source": [
    "# Functions"
   ]
  },
  {
   "cell_type": "code",
   "execution_count": 326,
   "metadata": {
    "collapsed": false
   },
   "outputs": [],
   "source": [
    "def initialize(fGeo, ShipGeo):\n",
    "    \n",
    "    debug = 0\n",
    "    #creates a dictionary with z coordinates of layers\n",
    "    #and variables with station start/end coordinates\n",
    "    #to be called once at the beginning of the eventloop\n",
    "    i1=1 #1st layer\n",
    "    i2=16 #last layer\n",
    "    zlayer={} #dictionary with z coordinates of station1,2 layers\n",
    "    zlayerv2={} #z-positions for stereo views\n",
    "    z34layer={} #dictionary with z coordinates of station3,4 layers\n",
    "    z34layerv2={} #z-positions for stereo views\n",
    "    TStation1StartZ=0.\n",
    "    TStation4EndZ=0.\n",
    "    VetoStationZ=0.\n",
    "    VetoStationEndZ=0.\n",
    "   \n",
    "    fgeo=fGeo \n",
    "    #z-positions of Y-view tracking\n",
    "    #4 stations, 4 views (Y,u,v,Y); each view has 2 planes and each plane has 2 layers\n",
    "\n",
    "    for i in range(i1,i2+1):\n",
    "        TStationz = ShipGeo.TrackStation1.z\n",
    "        if (i>8) : \n",
    "            TStationz = ShipGeo.TrackStation2.z  \n",
    "        # Y: vnb=0 or 3   \n",
    "        vnb=0.\n",
    "        if (i>4): vnb=3.\n",
    "        if (i>8): vnb=0.\n",
    "        if (i>12): vnb=3.\n",
    "        lnb = 0.  \n",
    "        if (i % 2 == 0) : lnb=1.\n",
    "        pnb=0.\n",
    "        if (i==3 or i==4 or i==7 or i==8 or i==11 or i==12 or i==15 or i==16) : pnb=1.\n",
    "\n",
    "        #z positions of Y view of stations   \n",
    "        Zpos = TStationz+(vnb-3./2.)*ShipGeo.strawtubes.DeltazView+(float(pnb)-1./2.)*ShipGeo.strawtubes.DeltazPlane+(float(lnb)-1./2.)*ShipGeo.strawtubes.DeltazLayer \n",
    "        zlayer[i]=[Zpos]\n",
    "\n",
    "    #z-positions for stereo views\n",
    "\n",
    "    for i in range(i1,i2+1):\n",
    "        TStationz = ShipGeo.TrackStation1.z\n",
    "        if (i>8) : \n",
    "            TStationz = ShipGeo.TrackStation2.z   \n",
    "        #stereo views: vnb=1 or 2  \n",
    "        vnb=1.\n",
    "        if (i>4): vnb=2.\n",
    "        if (i>8): vnb=1.\n",
    "        if (i>12): vnb=2. \n",
    "        lnb = 0.  \n",
    "        if (i % 2 == 0) : lnb=1.\n",
    "        pnb=0.\n",
    "        if (i==3 or i==4 or i==7 or i==8 or i==11 or i==12 or i==15 or i==16) : pnb=1.\n",
    "\n",
    "        #z positions of u,v view of stations   \n",
    "        Zpos_u = TStationz+(vnb-3./2.)*ShipGeo.strawtubes.DeltazView+(float(pnb)-1./2.)*ShipGeo.strawtubes.DeltazPlane+(float(lnb)-1./2.)*ShipGeo.strawtubes.DeltazLayer \n",
    "        zlayerv2[i]=[Zpos_u]\n",
    "\n",
    "\n",
    "    for i in range(i1,i2+1):\n",
    "        TStationz = ShipGeo.TrackStation3.z\n",
    "        if (i>8) : \n",
    "            TStationz = ShipGeo.TrackStation4.z  \n",
    "        # Y: vnb=0 or 3   \n",
    "        vnb=0.\n",
    "        if (i>4): vnb=3.\n",
    "        if (i>8): vnb=0.\n",
    "        if (i>12): vnb=3. \n",
    "        lnb = 0.  \n",
    "        if (i % 2 == 0) : lnb=1.\n",
    "        pnb=0.\n",
    "        if (i==3 or i==4 or i==7 or i==8 or i==11 or i==12 or i==15 or i==16) : pnb=1.\n",
    "\n",
    "        #z positions of x1 view of stations   \n",
    "        Zpos = TStationz+(vnb-3./2.)*ShipGeo.strawtubes.DeltazView+(float(pnb)-1./2.)*ShipGeo.strawtubes.DeltazPlane+(float(lnb)-1./2.)*ShipGeo.strawtubes.DeltazLayer \n",
    "        z34layer[i]=[Zpos]\n",
    "\n",
    "\n",
    "    for i in range(i1,i2+1):\n",
    "        #zlayerv2[i]=[i*100.+50.]\n",
    "        TStationz = ShipGeo.TrackStation3.z\n",
    "        if (i>8) : \n",
    "            TStationz = ShipGeo.TrackStation4.z   \n",
    "        #stereo views: vnb=1 or 2  \n",
    "        vnb=1.\n",
    "        if (i>4): vnb=2.\n",
    "        if (i>8): vnb=1.\n",
    "        if (i>12): vnb=2. \n",
    "        lnb = 0.  \n",
    "        if (i % 2 == 0) : lnb=1.\n",
    "        pnb=0.\n",
    "        if (i==3 or i==4 or i==7 or i==8 or i==11 or i==12 or i==15 or i==16) : pnb=1.\n",
    "\n",
    "        #z positions of u,v view of stations   \n",
    "        Zpos_u = TStationz+(vnb-3./2.)*ShipGeo.strawtubes.DeltazView+(float(pnb)-1./2.)*ShipGeo.strawtubes.DeltazPlane+(float(lnb)-1./2.)*ShipGeo.strawtubes.DeltazLayer \n",
    "        z34layerv2[i]=[Zpos_u]\n",
    "\n",
    "    VetoStationZ = ShipGeo.vetoStation.z\n",
    "    if debug==1: print \"VetoStation midpoint z=\",VetoStationZ\n",
    "    VetoStationEndZ=VetoStationZ+(ShipGeo.strawtubes.DeltazView+ShipGeo.strawtubes.OuterStrawDiameter)/2\n",
    "    for i in range(1,5):   \n",
    "        if i==1: TStationz = ShipGeo.TrackStation1.z\n",
    "        if i==2: TStationz = ShipGeo.TrackStation2.z  \n",
    "        if i==3: TStationz = ShipGeo.TrackStation3.z  \n",
    "        if i==4: TStationz = ShipGeo.TrackStation4.z \n",
    "        if debug==1:\n",
    "            print \"TrackStation\",i,\" midpoint z=\",TStationz \n",
    "        for vnb in range(0,4):\n",
    "            for pnb in range (0,2):\n",
    "                for lnb in range (0,2):\n",
    "                    Zpos = TStationz+(vnb-3./2.)*ShipGeo.strawtubes.DeltazView+(float(pnb)-1./2.)*ShipGeo.strawtubes.DeltazPlane+(float(lnb)-1./2.)*ShipGeo.strawtubes.DeltazLayer \n",
    "                    print \"TStation=\",i,\"view=\",vnb,\"plane=\",pnb,\"layer=\",lnb,\"z=\",Zpos\n",
    "\n",
    "    TStation1StartZ=zlayer[1][0]-ShipGeo.strawtubes.OuterStrawDiameter/2\n",
    "    TStation4EndZ=z34layer[16][0]+ShipGeo.strawtubes.OuterStrawDiameter/2\n",
    "\n",
    "    return zlayer,zlayerv2,z34layer,z34layerv2,TStation1StartZ,TStation4EndZ,VetoStationZ,VetoStationEndZ"
   ]
  },
  {
   "cell_type": "code",
   "execution_count": 327,
   "metadata": {
    "collapsed": true
   },
   "outputs": [],
   "source": [
    "def getReconstructibleTracks(iEvent,sTree,sGeo, reconstructiblerequired, threeprong, TStation1StartZ,TStation4EndZ,VetoStationZ,VetoStationEndZ):\n",
    "  debug = 0\n",
    "\n",
    "  PDG=ROOT.TDatabasePDG.Instance() \n",
    "\n",
    "  #returns a list of reconstructible tracks for this event\n",
    "  #call this routine once for each event before smearing\n",
    "  MCTrackIDs=[]\n",
    "  rc = sTree.GetEvent(iEvent) \n",
    "  nMCTracks = sTree.MCTrack.GetEntriesFast()   \n",
    "\n",
    "  if debug==1: print \"event nbr\",iEvent,\"has\",nMCTracks,\"tracks\"\n",
    "  #1. MCTrackIDs: list of tracks decaying after the last tstation and originating before the first\n",
    "  for i in reversed(range(nMCTracks)):\n",
    "     atrack = sTree.MCTrack.At(i) \n",
    "     #for 3 prong decays check if its a nu\n",
    "     if threeprong == 1:    \n",
    "       if PDG.GetParticle(atrack.GetPdgCode()):          \n",
    "         if PDG.GetParticle(atrack.GetPdgCode()).GetName()[:5]==\"nu_mu\":\n",
    "\t     if (atrack.GetStartZ() < TStation1StartZ and  atrack.GetStartZ() > VetoStationEndZ) and i not in MCTrackIDs:\n",
    "\t        MCTrackIDs.append(i)\n",
    "         else:\t\n",
    "           if atrack.GetStartZ() > TStation4EndZ :         \n",
    "             motherId=atrack.GetMotherId() \n",
    "\t     if motherId > -1 : \n",
    "\t       mothertrack=sTree.MCTrack.At(motherId)\t\n",
    "\t       mothertrackZ=mothertrack.GetStartZ() \n",
    "\t       #this mother track is a HNL decay \t      \n",
    "\t       #track starts inside the decay volume? (after veto, before 1 st tstation)\n",
    "               if mothertrackZ < TStation1StartZ and mothertrackZ > VetoStationEndZ:\n",
    "\t         if motherId not in MCTrackIDs:\n",
    "\t           MCTrackIDs.append(motherId)\t\n",
    "     else:    \n",
    "       #track endpoint after tstations?\n",
    "       if atrack.GetStartZ() > TStation4EndZ :       \n",
    "         motherId=atrack.GetMotherId() \n",
    "\t if motherId > -1 : \n",
    "\t     mothertrack=sTree.MCTrack.At(motherId)\t\n",
    "\t     mothertrackZ=mothertrack.GetStartZ() \n",
    "\t     #this mother track is a HNL decay \t      \n",
    "\t     #track starts inside the decay volume? (after veto, before 1 st tstation)\n",
    "             if mothertrackZ < TStation1StartZ and mothertrackZ > VetoStationEndZ:\n",
    "\t       if motherId not in MCTrackIDs:\n",
    "\t           MCTrackIDs.append(motherId)\n",
    "  if debug==1: print \"Tracks with origin in decay volume\",MCTrackIDs\t \n",
    "  if len(MCTrackIDs)==0: return MCTrackIDs\n",
    "    \n",
    "  #2. hitsinTimeDet: list of tracks with hits in TimeDet\t   \n",
    "  nVetoHits = sTree.vetoPoint.GetEntriesFast() \n",
    "  hitsinTimeDet=[]\n",
    "  for i in range(nVetoHits):\n",
    "     avetohit = sTree.vetoPoint.At(i)\n",
    "     #hit in TimeDet?\n",
    "     if sGeo.FindNode(avetohit.GetX(),avetohit.GetY(),avetohit.GetZ()).GetName() == 'TimeDet_1':\n",
    "        if avetohit.GetTrackID() not in hitsinTimeDet:\n",
    "\t   hitsinTimeDet.append(avetohit.GetTrackID())\n",
    "\t \n",
    "  #3. Remove tracks from MCTrackIDs that are not in hitsinTimeDet \t\n",
    "  itemstoremove=[]\n",
    "  for item in MCTrackIDs:\n",
    "      if threeprong==1:\n",
    "        #don't remove the nu\n",
    "        if PDG.GetParticle(sTree.MCTrack.At(item).GetPdgCode()).GetName()[:5]!=\"nu_mu\" and item not in hitsinTimeDet:  \n",
    "       \t  itemstoremove.append(item)       \n",
    "      else :\n",
    "        if item not in hitsinTimeDet:\n",
    "          itemstoremove.append(item)\n",
    "  for item in itemstoremove:\n",
    "      MCTrackIDs.remove(item)\t   \t  \t  \n",
    "\n",
    "  if debug==1: print \"Tracks with hits in timedet\",MCTrackIDs \n",
    "  if len(MCTrackIDs)==0: return MCTrackIDs\n",
    "  #4. Find straws that have multiple hits\n",
    "  nHits = sTree.strawtubesPoint.GetEntriesFast()  \n",
    "  hitstraws={}\n",
    "  duplicatestrawhit=[]\n",
    "  if debug==1: print \"Nbr of Rawhits=\",nHits\n",
    "\n",
    "  for i in range(nHits):\n",
    "    ahit = sTree.strawtubesPoint[i]\n",
    "    if (str(ahit.GetDetectorID())[:1]==\"5\") : \n",
    "       if debug==1: print \"Hit in straw Veto detector. Rejecting.\"\n",
    "       continue\n",
    "    strawname=str(ahit.GetDetectorID())\n",
    "    \n",
    "    if hitstraws.has_key(strawname):\n",
    "       #straw was already hit\n",
    "       if ahit.GetX()>hitstraws[strawname][1]:\n",
    "          #this hit has higher x, discard it\n",
    "          duplicatestrawhit.append(i)\n",
    "       else:\n",
    "          #del hitstraws[strawname] \n",
    "\t  duplicatestrawhit.append(hitstraws[strawname][0])\n",
    "          hitstraws[strawname]=[i,ahit.GetX()]\t        \n",
    "    else: \n",
    "       hitstraws[strawname]=[i,ahit.GetX()]\n",
    "  \n",
    "  #5. Split hits up by station and outside stations\n",
    "  hits1={}\n",
    "  hits2={}\n",
    "  hits3={}\n",
    "  hits4={}\n",
    "  trackoutsidestations=[]\n",
    "  for i in range(nHits):\n",
    "    if i in  duplicatestrawhit: \n",
    "       if debug==1: print \"Duplicate hit\",i,\"not reconstructible, rejecting.\"\n",
    "       continue  \n",
    "    ahit = sTree.strawtubesPoint[i] \n",
    "    #is hit inside acceptance? if not mark the track as bad   \n",
    "    if (((ahit.GetX()/245.)**2 + (ahit.GetY()/495.)**2) >= 1.): \n",
    "       if ahit.GetTrackID() not in trackoutsidestations:\n",
    "          trackoutsidestations.append(ahit.GetTrackID())\n",
    "    if ahit.GetTrackID() not in MCTrackIDs:\n",
    "       #hit on not reconstructible track\n",
    "       if debug==1: print \"Hit not on reconstructible track. Rejecting.\"\n",
    "       continue\t  \n",
    "    #group hits per tracking station, key = trackid\n",
    "    if str(ahit.GetDetectorID())[:1]==\"1\" :\n",
    "       if hits1.has_key(ahit.GetTrackID()):\n",
    "            hits1[ahit.GetTrackID()]=[hits1[ahit.GetTrackID()][0],i]\n",
    "       else:  \n",
    "            hits1[ahit.GetTrackID()]=[i]    \n",
    "    if str(ahit.GetDetectorID())[:1]==\"2\" :\n",
    "       if hits2.has_key(ahit.GetTrackID()):\n",
    "            hits2[ahit.GetTrackID()]=[hits2[ahit.GetTrackID()][0],i]\n",
    "       else:  \n",
    "            hits2[ahit.GetTrackID()]=[i]   \n",
    "    if str(ahit.GetDetectorID())[:1]==\"3\" :\n",
    "       if hits3.has_key(ahit.GetTrackID()):\n",
    "            hits3[ahit.GetTrackID()]=[hits3[ahit.GetTrackID()][0],i]\n",
    "       else:  \n",
    "            hits3[ahit.GetTrackID()]=[i]           \n",
    "    if str(ahit.GetDetectorID())[:1]==\"4\" :\n",
    "       if hits4.has_key(ahit.GetTrackID()):\n",
    "            hits4[ahit.GetTrackID()]=[hits4[ahit.GetTrackID()][0],i]\n",
    "       else:  \n",
    "            hits4[ahit.GetTrackID()]=[i] \n",
    "\t    \n",
    "  #6. Make list of tracks with hits in in station 1,2,3 & 4\t    \t\n",
    "  tracks_with_hits_in_all_stations=[]  \n",
    "  for key in hits1.keys():\n",
    "      if (hits2.has_key(key) and hits3.has_key(key) ) and hits4.has_key(key):\n",
    "         if key not in tracks_with_hits_in_all_stations and key not in trackoutsidestations:\n",
    "            tracks_with_hits_in_all_stations.append(key) \n",
    "  for key in hits2.keys():\n",
    "      if (hits1.has_key(key) and hits3.has_key(key) ) and hits4.has_key(key):\n",
    "         if key not in tracks_with_hits_in_all_stations and key not in trackoutsidestations:\n",
    "            tracks_with_hits_in_all_stations.append(key) \n",
    "  for key in hits3.keys():\n",
    "      if ( hits2.has_key(key) and hits1.has_key(key) ) and hits4.has_key(key):\n",
    "         if key not in tracks_with_hits_in_all_stations and key not in trackoutsidestations:\n",
    "            tracks_with_hits_in_all_stations.append(key) \n",
    "  for key in hits4.keys():\n",
    "      if (hits2.has_key(key) and hits3.has_key(key)) and hits1.has_key(key):\n",
    "         if key not in tracks_with_hits_in_all_stations and key not in trackoutsidestations:\n",
    "            tracks_with_hits_in_all_stations.append(key) \n",
    " \n",
    "  #7. Remove tracks from MCTrackIDs with hits outside acceptance or doesn't have hits in all stations \t   \t  \t  \n",
    "  itemstoremove=[]\n",
    "  for item in MCTrackIDs:\t\n",
    "      if threeprong==1:\n",
    "        #don't remove the nu\n",
    "        if PDG.GetParticle(sTree.MCTrack.At(item).GetPdgCode()).GetName()[:5]!=\"nu_mu\" and item not in tracks_with_hits_in_all_stations:  \n",
    "       \t  itemstoremove.append(item)      \n",
    "      else:\n",
    "        if item not in tracks_with_hits_in_all_stations:\n",
    "          itemstoremove.append(item)\n",
    "  for item in itemstoremove:\n",
    "      MCTrackIDs.remove(item)\t\n",
    "\n",
    "  if debug==1: \n",
    "     print \"tracks_with_hits_in_all_stations\",tracks_with_hits_in_all_stations\n",
    "     print \"Tracks with hits in all stations & inside acceptance ellipse\",MCTrackIDs   \n",
    "  if len(MCTrackIDs)==0: return MCTrackIDs   \n",
    "  nbrechits=0\t    \n",
    "  for i in range(nHits):\n",
    "    if i in  duplicatestrawhit: \n",
    "       continue \n",
    "    nbrechits+=1    \n",
    "    ahit = sTree.strawtubesPoint[i] \t\n",
    "    if ahit.GetTrackID()>-1 and ahit.GetTrackID() in MCTrackIDs:   \t   \t   \n",
    "      atrack = sTree.MCTrack.At(ahit.GetTrackID())\n",
    "      for j in range(ahit.GetTrackID()+1,nMCTracks) :\n",
    "        childtrack = sTree.MCTrack.At(j)\n",
    "        if childtrack.GetMotherId() == ahit.GetTrackID():\t   \n",
    "\t    trackmomentum=atrack.GetP()\n",
    "\t    trackweight=atrack.GetWeight()\n",
    "\t    #rc=h['reconstructiblemomentum'].Fill(trackmomentum,trackweight)\n",
    "\t    motherId=atrack.GetMotherId() \n",
    "\t    if motherId==1 :\n",
    "\t\tHNLmomentum=sTree.MCTrack.At(1).GetP()\n",
    "\t\t#rc=h['HNLmomentumvsweight'].Fill(trackweight,HNLmomentum) \n",
    "\t        if j==nMCTracks :\n",
    " \t\t     trackmomentum=atrack.GetP()\n",
    "\t\t     trackweight=atrack.GetWeight()\n",
    "\t\t     #rc=h['reconstructiblemomentum'].Fill(trackmomentum,trackweight)\n",
    "\t\t     if atrack.GetMotherId()==1 :\n",
    "\t\t       HNLmomentum=sTree.MCTrack.At(1).GetP()\n",
    "\t\t       #rc=h['HNLmomentumvsweight'].Fill(trackweight,HNLmomentum)\n",
    "  itemstoremove=[]\n",
    "  for item in MCTrackIDs:\t       \n",
    "    atrack = sTree.MCTrack.At(item)\n",
    "    motherId=atrack.GetMotherId() \n",
    "    if motherId != 2: #!!!!\n",
    "        itemstoremove.append(item)\n",
    "  for item in itemstoremove:\n",
    "      MCTrackIDs.remove(item)\t\n",
    "      if debug==1: print \"After removing the non HNL track, MCTrackIDs\",MCTrackIDs\n",
    "  if debug==1: print \"Tracks with HNL mother\",MCTrackIDs \n",
    "  \n",
    "  #8. check if the tracks are HNL children \n",
    "  mufound=0\n",
    "  pifound=0 \n",
    "  nu_mufound=0\n",
    "  itemstoremove=[]\n",
    "  if MCTrackIDs:\n",
    "    for item in MCTrackIDs: \n",
    "      try: \n",
    "        if PDG.GetParticle(sTree.MCTrack.At(item).GetPdgCode()).GetName()[:2]==\"mu\"   : mufound+=1\t\n",
    "        if PDG.GetParticle(sTree.MCTrack.At(item).GetPdgCode()).GetName()[:2]==\"pi\"   : pifound+=1 \n",
    "        if PDG.GetParticle(sTree.MCTrack.At(item).GetPdgCode()).GetName()[:5]==\"nu_mu\": \n",
    "\t   nu_mufound+=1  \n",
    "\t   itemstoremove.append(item)\n",
    "      except:\n",
    "        if debug==1: print \"Unknown particle with pdg code:\",sTree.MCTrack.At(item).GetPdgCode()\t\n",
    "    if reconstructiblerequired == 1 :\n",
    "      if mufound!=1  and pifound!=1: \n",
    "          if debug==1: print \"No reconstructible pion or muon.\" \n",
    "\t  MCTrackIDs=[]   \n",
    "    if reconstructiblerequired == 2 : \n",
    "      if threeprong == 1 :       \n",
    "          if mufound!=2 or nu_mufound!=1 : \n",
    "            if debug==1: print \"No reconstructible mu-mu-nu.\"  \n",
    "\t    MCTrackIDs=[]\n",
    "\t  else:\n",
    "\t    #remove the neutrino from MCTrackIDs for the rest\n",
    "\t    for item in itemstoremove:\n",
    "               MCTrackIDs.remove(item)\t\n",
    "      else:         \n",
    "          if mufound!=1 or pifound!=1 : \n",
    "            if debug==1: print \"No reconstructible pion and muon.\"  \n",
    "\t    MCTrackIDs=[]     \n",
    "  if len(MCTrackIDs)>0:\n",
    "     #rc=h['nbrhits'].Fill(nHits)\n",
    "     #rc=h['nbrtracks'].Fill(nMCTracks)\n",
    "     pass\n",
    "  if debug==1: print \"Tracks with required HNL decay particles\",MCTrackIDs \t     \n",
    "  return MCTrackIDs"
   ]
  },
  {
   "cell_type": "code",
   "execution_count": 328,
   "metadata": {
    "collapsed": true
   },
   "outputs": [],
   "source": [
    "random = ROOT.TRandom()\n",
    "ROOT.gRandom.SetSeed(13)\n",
    "\n",
    "def smearHits(sTree, ShipGeo, modules, no_amb=None):\n",
    "    \n",
    "    # smear strawtube points\n",
    "    SmearedHits = []\n",
    "    key = -1\n",
    "    \n",
    "    for ahit in sTree.strawtubesPoint:\n",
    "        \n",
    "        key+=1\n",
    "        detID = ahit.GetDetectorID()\n",
    "        top = ROOT.TVector3()\n",
    "        bot = ROOT.TVector3()\n",
    "        \n",
    "        modules[\"Strawtubes\"].StrawEndPoints(detID,bot,top)\n",
    "        \n",
    "        #distance to wire, and smear it.\n",
    "        dw  = ahit.dist2Wire()\n",
    "        smear = dw\n",
    "        if not no_amb:\n",
    "            random = ROOT.TRandom()\n",
    "            smear = abs(random.Gaus(dw,ShipGeo.strawtubes.sigma_spatial))\n",
    "            \n",
    "        SmearedHits.append( {'digiHit':key,'xtop':top.x(),'ytop':top.y(),'z':top.z(),'xbot':bot.x(),'ybot':bot.y(),'dist':smear} )\n",
    "        \n",
    "\n",
    "    return SmearedHits"
   ]
  },
  {
   "cell_type": "code",
   "execution_count": 329,
   "metadata": {
    "collapsed": true
   },
   "outputs": [],
   "source": [
    "def Digitization(sTree,SmearedHits):\n",
    "\n",
    "    Hits = []\n",
    "    \n",
    "    for i in range(len(SmearedHits)):\n",
    "        xtop=SmearedHits[i]['xtop']\n",
    "        xbot=SmearedHits[i]['xbot']\n",
    "        ytop=SmearedHits[i]['ytop']\n",
    "        ybot=SmearedHits[i]['ybot']\n",
    "        ztop=SmearedHits[i]['z'] \n",
    "        zbot=SmearedHits[i]['z']\n",
    "        distance=SmearedHits[i]['dist']\n",
    "        detid=sTree.strawtubesPoint[i].GetDetectorID()\n",
    "        \n",
    "        ahit=[xtop, ytop, ztop, xbot, ybot, zbot, float(distance), int(detid)]\n",
    "        Hits.append(ahit)\n",
    "\n",
    "    return numpy.array(Hits)"
   ]
  },
  {
   "cell_type": "code",
   "execution_count": 330,
   "metadata": {
    "collapsed": false
   },
   "outputs": [],
   "source": [
    "def prepare_theTrack(ShipGeo, hitPosList, charge, pinv):\n",
    "    \n",
    "    nM = len(hitPosList)\n",
    "\n",
    "    if int(charge)<0:\n",
    "        pdg=13\n",
    "    else:\n",
    "        pdg=-13   \n",
    "    rep = ROOT.genfit.RKTrackRep(pdg)   \n",
    "    posM = ROOT.TVector3(0, 0, 0)\n",
    "    #would be the correct way but due to uncertainties on small angles the sqrt is often negative\n",
    "    if abs(pinv) > 0.0 : momM = ROOT.TVector3(0,0,int(charge)/pinv)\n",
    "    else: momM = ROOT.TVector3(0,0,999)   \n",
    "    covM = ROOT.TMatrixDSym(6)\n",
    "    resolution = ShipGeo.strawtubes.sigma_spatial  \n",
    "    for  i in range(3):   covM[i][i] = resolution*resolution\n",
    "    covM[0][0]=resolution*resolution*100.\n",
    "    for  i in range(3,6): covM[i][i] = ROOT.TMath.Power(resolution / nM / ROOT.TMath.Sqrt(3), 2)\n",
    "    # smeared start state  \n",
    "    stateSmeared = ROOT.genfit.MeasuredStateOnPlane(rep)\n",
    "    rep.setPosMomCov(stateSmeared, posM, momM, covM)\n",
    "    # create track\n",
    "    seedState = ROOT.TVectorD(6)\n",
    "    seedCov   = ROOT.TMatrixDSym(6)\n",
    "    rep.get6DStateCov(stateSmeared, seedState, seedCov)\n",
    "    theTrack=ROOT.genfit.Track(rep, seedState, seedCov) \n",
    "\n",
    "    return theTrack"
   ]
  },
  {
   "cell_type": "code",
   "execution_count": 331,
   "metadata": {
    "collapsed": true
   },
   "outputs": [],
   "source": [
    "from array import array\n",
    "import shipunit  as u\n",
    "import math\n",
    "\n",
    "def TrackFit(ShipGeo, fitter, hitPosList, theTrack, theTracks): \n",
    "    debug=1\n",
    "    #if debug==1: fitter.setDebugLvl(1)\n",
    "    resolution = ShipGeo.strawtubes.sigma_spatial    \n",
    "    hitCov = ROOT.TMatrixDSym(7)\n",
    "    hitCov[6][6] = resolution*resolution\n",
    "    \n",
    "    for item in hitPosList:\n",
    "        \n",
    "        itemarray=array('d',[item[0],item[1],item[2],item[3],item[4],item[5],item[6]])\n",
    "        ms=ROOT.TVectorD(7,itemarray) \n",
    "        tp = ROOT.genfit.TrackPoint(theTrack) # note how the point is told which track it belongs to \n",
    "        measurement = ROOT.genfit.WireMeasurement(ms,hitCov,1,6,tp) # the measurement is told which trackpoint it belongs to\n",
    "        measurement.setMaxDistance(0.5*u.cm)     \n",
    "        tp.addRawMeasurement(measurement) # package measurement in the TrackPoint                                          \n",
    "        theTrack.insertPoint(tp)  # add point to Track\n",
    "        \n",
    "    \n",
    "    theTracks.append(theTrack)\n",
    "    if not debug == 1: \n",
    "        return # leave track fitting shipDigiReco\n",
    "#check\n",
    "    if not theTrack.checkConsistency():\n",
    "        if debug==1: print 'Problem with track before fit, not consistent',theTrack\n",
    "        return\n",
    "# do the fit\n",
    "    try:  \n",
    "        fitter.processTrack(theTrack)\n",
    "    except: \n",
    "        if debug==1: print \"genfit failed to fit track\"\n",
    "        return\n",
    "#check\n",
    "    if not theTrack.checkConsistency():\n",
    "        if debug==1: print 'Problem with track after fit, not consistent',theTrack\n",
    "        return  \n",
    "      \n",
    "    return "
   ]
  },
  {
   "cell_type": "code",
   "execution_count": 332,
   "metadata": {
    "collapsed": true
   },
   "outputs": [],
   "source": [
    "def fracMCsame(trackids):\n",
    "    \n",
    "    track={}\n",
    "    nh=len(trackids)\n",
    "    for tid in trackids:\n",
    "        if tid==999: \n",
    "            nh-=1\n",
    "            continue\n",
    "        if track.has_key(tid):\n",
    "            track[tid]+=1\n",
    "        else:\n",
    "            track[tid]=1\n",
    "    #now get track with largest number of hits\n",
    "    tmax=max(track, key=track.get)\n",
    "\n",
    "    frac=0.\n",
    "    if nh>0: frac=float(track[tmax])/float(nh)\n",
    "    return frac,tmax "
   ]
  },
  {
   "cell_type": "code",
   "execution_count": 333,
   "metadata": {
    "collapsed": true
   },
   "outputs": [],
   "source": [
    "def get_track_ids(stree, smeared_hits):\n",
    "    \n",
    "    y = []\n",
    "    \n",
    "    for i in range(len(smeared_hits)):\n",
    "        \n",
    "        track_id = stree.strawtubesPoint[i].GetTrackID()\n",
    "        y.append(track_id)\n",
    "        \n",
    "    return numpy.array(y)"
   ]
  },
  {
   "cell_type": "markdown",
   "metadata": {},
   "source": [
    "# Execute"
   ]
  },
  {
   "cell_type": "code",
   "execution_count": 11,
   "metadata": {
    "collapsed": true
   },
   "outputs": [],
   "source": [
    "input_file = \"../../ship.conical.Pythia8-TGeant4.root\"\n",
    "geo_file = \"../../geofile_full.conical.Pythia8-TGeant4.root\""
   ]
  },
  {
   "cell_type": "markdown",
   "metadata": {},
   "source": [
    "## sGeo"
   ]
  },
  {
   "cell_type": "code",
   "execution_count": 12,
   "metadata": {
    "collapsed": false
   },
   "outputs": [
    {
     "name": "stderr",
     "output_type": "stream",
     "text": [
      "Info in <TGeoManager::CloseGeometry>: Geometry loaded from file...\r\n",
      "Info in <TGeoManager::SetTopVolume>: Top volume is cave. Master volume is cave\r\n",
      "Info in <TGeoNavigator::BuildCache>: --- Maximum geometry depth set to 100\r\n",
      "Info in <TGeoManager::Voxelize>: Voxelizing...\r\n",
      "Info in <TGeoManager::CountLevels>: max level = 8, max placements = 1850\r\n",
      "Info in <TGeoManager::CloseGeometry>: 8882882 nodes/ 993 volume UID's in FAIR geometry\r\n",
      "Info in <TGeoManager::CloseGeometry>: ----------------modeler ready----------------\r\n"
     ]
    }
   ],
   "source": [
    "fgeo = ROOT.TFile(geo_file)\n",
    "sGeo = fgeo.FAIRGeom"
   ]
  },
  {
   "cell_type": "markdown",
   "metadata": {},
   "source": [
    "## sTree"
   ]
  },
  {
   "cell_type": "code",
   "execution_count": 13,
   "metadata": {
    "collapsed": true
   },
   "outputs": [],
   "source": [
    "fn = ROOT.TFile(input_file,'update')\n",
    "sTree = fn.cbmsim"
   ]
  },
  {
   "cell_type": "markdown",
   "metadata": {},
   "source": [
    "## ShipGeo"
   ]
  },
  {
   "cell_type": "code",
   "execution_count": 14,
   "metadata": {
    "collapsed": true
   },
   "outputs": [],
   "source": [
    "from ShipGeoConfig import ConfigRegistry\n",
    "from rootpyPickler import Unpickler\n",
    "\n",
    "dy  = None\n",
    "\n",
    "if not fgeo.FindKey('ShipGeo'):\n",
    "    \n",
    "    # old geofile, missing Shipgeo dictionary\n",
    "    if sGeo.GetVolume('EcalModule3') :  \n",
    "        ecalGeoFile = \"ecal_ellipse6x12m2.geo\"\n",
    "    else: \n",
    "        ecalGeoFile = \"ecal_ellipse5x10m2.geo\" \n",
    "        \n",
    "    print 'found ecal geo for ',ecalGeoFile\n",
    " \n",
    "\n",
    "    if dy: \n",
    "        ShipGeo = ConfigRegistry.loadpy(\"$FAIRSHIP/geometry/geometry_config.py\", Yheight = dy, EcalGeoFile = ecalGeoFile)\n",
    "    else:\n",
    "        ShipGeo = ConfigRegistry.loadpy(\"$FAIRSHIP/geometry/geometry_config.py\", EcalGeoFile = ecalGeoFile) \n",
    "\n",
    "else: \n",
    "    # new geofile, load Shipgeo dictionary\n",
    "    upkl    = Unpickler(fgeo)\n",
    "    ShipGeo = upkl.load('ShipGeo')\n",
    "    ecalGeoFile = ShipGeo.ecal.File"
   ]
  },
  {
   "cell_type": "markdown",
   "metadata": {},
   "source": [
    "## Modules"
   ]
  },
  {
   "cell_type": "code",
   "execution_count": 15,
   "metadata": {
    "collapsed": false
   },
   "outputs": [
    {
     "name": "stdout",
     "output_type": "stream",
     "text": [
      "[INFO   ] Media file used: /afs/cern.ch/work/m/mhushchy/ShipSoft3/FairShip/geometry/media.geo\r\n"
     ]
    },
    {
     "name": "stderr",
     "output_type": "stream",
     "text": [
      "Info in <EmulsionMagnet::Chosen TP Design (0 no, 1 yes) >:  1\r\n",
      "Info in <Target::SetDetectorDesign>:  to 1\r\n",
      "Info in <ecal::ecal>: Geometry is read from file ecal_rect5x10m2.geoz3720.0.geo.\r\n",
      "Info in <ecal::ecal>: Size of cell of type 2 is 5.970000 cm.\r\n",
      "Info in <hcal::hcal>: Geometry is read from file hcal_rect.geoz3881.0.geo.\r\n",
      "Info in <hcal::hcal>: Number of modules is 924, lightmap none\r\n",
      "Info in <hcal::hcal>: Size of cell of type 22 is 23.959999 cm.\r\n"
     ]
    }
   ],
   "source": [
    "import shipDet_conf\n",
    "\n",
    "run = ROOT.FairRunSim()\n",
    "modules = shipDet_conf.configure(run,ShipGeo)"
   ]
  },
  {
   "cell_type": "markdown",
   "metadata": {},
   "source": [
    "## Initialization"
   ]
  },
  {
   "cell_type": "code",
   "execution_count": 16,
   "metadata": {
    "collapsed": false
   },
   "outputs": [
    {
     "name": "stdout",
     "output_type": "stream",
     "text": [
      "TStation= 1 view= 0 plane= 0 layer= 0 z= 2581.15\n",
      "TStation= 1 view= 0 plane= 0 layer= 1 z= 2582.25\n",
      "TStation= 1 view= 0 plane= 1 layer= 0 z= 2583.75\n",
      "TStation= 1 view= 0 plane= 1 layer= 1 z= 2584.85\n",
      "TStation= 1 view= 1 plane= 0 layer= 0 z= 2591.15\n",
      "TStation= 1 view= 1 plane= 0 layer= 1 z= 2592.25\n",
      "TStation= 1 view= 1 plane= 1 layer= 0 z= 2593.75\n",
      "TStation= 1 view= 1 plane= 1 layer= 1 z= 2594.85\n",
      "TStation= 1 view= 2 plane= 0 layer= 0 z= 2601.15\n",
      "TStation= 1 view= 2 plane= 0 layer= 1 z= 2602.25\n",
      "TStation= 1 view= 2 plane= 1 layer= 0 z= 2603.75\n",
      "TStation= 1 view= 2 plane= 1 layer= 1 z= 2604.85\n",
      "TStation= 1 view= 3 plane= 0 layer= 0 z= 2611.15\n",
      "TStation= 1 view= 3 plane= 0 layer= 1 z= 2612.25\n",
      "TStation= 1 view= 3 plane= 1 layer= 0 z= 2613.75\n",
      "TStation= 1 view= 3 plane= 1 layer= 1 z= 2614.85\n",
      "TStation= 2 view= 0 plane= 0 layer= 0 z= 2781.15\n",
      "TStation= 2 view= 0 plane= 0 layer= 1 z= 2782.25\n",
      "TStation= 2 view= 0 plane= 1 layer= 0 z= 2783.75\n",
      "TStation= 2 view= 0 plane= 1 layer= 1 z= 2784.85\n",
      "TStation= 2 view= 1 plane= 0 layer= 0 z= 2791.15\n",
      "TStation= 2 view= 1 plane= 0 layer= 1 z= 2792.25\n",
      "TStation= 2 view= 1 plane= 1 layer= 0 z= 2793.75\n",
      "TStation= 2 view= 1 plane= 1 layer= 1 z= 2794.85\n",
      "TStation= 2 view= 2 plane= 0 layer= 0 z= 2801.15\n",
      "TStation= 2 view= 2 plane= 0 layer= 1 z= 2802.25\n",
      "TStation= 2 view= 2 plane= 1 layer= 0 z= 2803.75\n",
      "TStation= 2 view= 2 plane= 1 layer= 1 z= 2804.85\n",
      "TStation= 2 view= 3 plane= 0 layer= 0 z= 2811.15\n",
      "TStation= 2 view= 3 plane= 0 layer= 1 z= 2812.25\n",
      "TStation= 2 view= 3 plane= 1 layer= 0 z= 2813.75\n",
      "TStation= 2 view= 3 plane= 1 layer= 1 z= 2814.85\n",
      "TStation= 3 view= 0 plane= 0 layer= 0 z= 3321.15\n",
      "TStation= 3 view= 0 plane= 0 layer= 1 z= 3322.25\n",
      "TStation= 3 view= 0 plane= 1 layer= 0 z= 3323.75\n",
      "TStation= 3 view= 0 plane= 1 layer= 1 z= 3324.85\n",
      "TStation= 3 view= 1 plane= 0 layer= 0 z= 3331.15\n",
      "TStation= 3 view= 1 plane= 0 layer= 1 z= 3332.25\n",
      "TStation= 3 view= 1 plane= 1 layer= 0 z= 3333.75\n",
      "TStation= 3 view= 1 plane= 1 layer= 1 z= 3334.85\n",
      "TStation= 3 view= 2 plane= 0 layer= 0 z= 3341.15\n",
      "TStation= 3 view= 2 plane= 0 layer= 1 z= 3342.25\n",
      "TStation= 3 view= 2 plane= 1 layer= 0 z= 3343.75\n",
      "TStation= 3 view= 2 plane= 1 layer= 1 z= 3344.85\n",
      "TStation= 3 view= 3 plane= 0 layer= 0 z= 3351.15\n",
      "TStation= 3 view= 3 plane= 0 layer= 1 z= 3352.25\n",
      "TStation= 3 view= 3 plane= 1 layer= 0 z= 3353.75\n",
      "TStation= 3 view= 3 plane= 1 layer= 1 z= 3354.85\n",
      "TStation= 4 view= 0 plane= 0 layer= 0 z= 3521.15\n",
      "TStation= 4 view= 0 plane= 0 layer= 1 z= 3522.25\n",
      "TStation= 4 view= 0 plane= 1 layer= 0 z= 3523.75\n",
      "TStation= 4 view= 0 plane= 1 layer= 1 z= 3524.85\n",
      "TStation= 4 view= 1 plane= 0 layer= 0 z= 3531.15\n",
      "TStation= 4 view= 1 plane= 0 layer= 1 z= 3532.25\n",
      "TStation= 4 view= 1 plane= 1 layer= 0 z= 3533.75\n",
      "TStation= 4 view= 1 plane= 1 layer= 1 z= 3534.85\n",
      "TStation= 4 view= 2 plane= 0 layer= 0 z= 3541.15\n",
      "TStation= 4 view= 2 plane= 0 layer= 1 z= 3542.25\n",
      "TStation= 4 view= 2 plane= 1 layer= 0 z= 3543.75\n",
      "TStation= 4 view= 2 plane= 1 layer= 1 z= 3544.85\n",
      "TStation= 4 view= 3 plane= 0 layer= 0 z= 3551.15\n",
      "TStation= 4 view= 3 plane= 0 layer= 1 z= 3552.25\n",
      "TStation= 4 view= 3 plane= 1 layer= 0 z= 3553.75\n",
      "TStation= 4 view= 3 plane= 1 layer= 1 z= 3554.85\n"
     ]
    }
   ],
   "source": [
    "zlayer,zlayerv2,z34layer,z34layerv2,TStation1StartZ,TStation4EndZ,VetoStationZ,VetoStationEndZ = initialize(fgeo)"
   ]
  },
  {
   "cell_type": "markdown",
   "metadata": {},
   "source": [
    "## Reconstructible Events"
   ]
  },
  {
   "cell_type": "code",
   "execution_count": 98,
   "metadata": {
    "collapsed": false
   },
   "outputs": [
    {
     "data": {
      "text/plain": [
       "[3, 4]"
      ]
     },
     "execution_count": 98,
     "metadata": {},
     "output_type": "execute_result"
    }
   ],
   "source": [
    "reco_mc_tracks = getReconstructibleTracks(14,sTree,sGeo, 2, 0, TStation1StartZ,TStation4EndZ,VetoStationZ,VetoStationEndZ)\n",
    "reco_mc_tracks #14"
   ]
  },
  {
   "cell_type": "code",
   "execution_count": 99,
   "metadata": {
    "collapsed": false,
    "scrolled": false
   },
   "outputs": [],
   "source": [
    "# for ev in range(100):\n",
    "#     reco_mc_tracks = getReconstructibleTracks(ev,sTree,sGeo, 2, 0, TStation1StartZ,TStation4EndZ,VetoStationZ,VetoStationEndZ)\n",
    "#     print ev, reco_mc_tracks"
   ]
  },
  {
   "cell_type": "markdown",
   "metadata": {},
   "source": [
    "## Smear Hits"
   ]
  },
  {
   "cell_type": "code",
   "execution_count": 100,
   "metadata": {
    "collapsed": false
   },
   "outputs": [],
   "source": [
    "smeared_hits = smearHits(sTree, modules, no_amb=None)"
   ]
  },
  {
   "cell_type": "markdown",
   "metadata": {},
   "source": [
    "## Fitter"
   ]
  },
  {
   "cell_type": "code",
   "execution_count": 101,
   "metadata": {
    "collapsed": true
   },
   "outputs": [],
   "source": [
    "geoMat =  ROOT.genfit.TGeoMaterialInterface()\n",
    "# init geometry and mag. field\n",
    "gMan  = ROOT.gGeoManager\n",
    "#\n",
    "bfield = ROOT.genfit.BellField(ShipGeo.Bfield.max ,ShipGeo.Bfield.z,2, ShipGeo.Yheight/2.*u.m)\n",
    "fM = ROOT.genfit.FieldManager.getInstance()\n",
    "fM.init(bfield)\n",
    "ROOT.genfit.MaterialEffects.getInstance().init(geoMat)\n",
    "\n",
    "# init fitter, to be done before importing shipPatRec\n",
    "#fitter          = ROOT.genfit.KalmanFitter()\n",
    "#fitter          = ROOT.genfit.KalmanFitterRefTrack()\n",
    "fitter      = ROOT.genfit.DAF()\n",
    "#fitter.setMaxIterations(10)\n",
    "#fitter.setDebugLvl(1)"
   ]
  },
  {
   "cell_type": "markdown",
   "metadata": {},
   "source": [
    "## Execute"
   ]
  },
  {
   "cell_type": "code",
   "execution_count": 102,
   "metadata": {
    "collapsed": true
   },
   "outputs": [],
   "source": [
    "from fast_hough import FastHough, Clusterer\n",
    "from reconstruction import TracksReconstruction2D\n",
    "from combination import Combinator\n",
    "\n",
    "\n",
    "from metrics import TracksReconstractionMetrics, CombinatorQuality"
   ]
  },
  {
   "cell_type": "code",
   "execution_count": 103,
   "metadata": {
    "collapsed": true
   },
   "outputs": [],
   "source": [
    "def track_pattern_recognition(X, method='FastHough'):\n",
    "    \n",
    "    if len(X) == 0:\n",
    "        return {}\n",
    "    \n",
    "    if method=='FastHough':\n",
    "        \n",
    "        clustering=Clusterer(x_depth=2, y_depth=4, n_min=2)\n",
    "        stm_y = FastHough(n_tracks=2, min_hits=3, k_size=0.7/4000, b_size=1700./4000, \n",
    "                          k_limits=(-0.35, 0.35), b_limits=(-850, 850), clustering=clustering, unique_hit_labels=True)\n",
    "        stm_stereo = FastHough(n_tracks=1, min_hits=3, k_size=0.6/160, b_size=1000./160, \n",
    "                               k_limits=(-0.3, 0.3), b_limits=(-500, 500), clustering=clustering, unique_hit_labels=True)\n",
    "    \n",
    "\n",
    "    tr2d = TracksReconstruction2D(model_y=stm_y, model_stereo=stm_stereo, unique_hit_labels=True)\n",
    "    tr2d.predict(X, None)\n",
    "    \n",
    "    track_inds12, tracks_params12 = tr2d.track_inds12_, tr2d.tracks_params12_\n",
    "    track_inds34, tracks_params34 = tr2d.track_inds34_, tr2d.tracks_params34_\n",
    "    \n",
    "    comb = Combinator(z_magnet=ShipGeo.Bfield.z)\n",
    "    comb.combine(tracks_params12, tracks_params34)\n",
    "    \n",
    "    # Save the hits labels and the tracks parameters fiealdfieald\n",
    "    reco_tracks = {}\n",
    "    \n",
    "    for track_id, acomb in enumerate(comb.tracks_combinations_):\n",
    "        \n",
    "        track_before_y, track_before_stereo = track_inds12[acomb[0]]\n",
    "        track_before = numpy.concatenate((track_before_y, track_before_stereo))\n",
    "        \n",
    "        track_after_y, track_after_stereo = track_inds34[acomb[1]]\n",
    "        track_after = numpy.concatenate((track_after_y, track_after_stereo))\n",
    "        \n",
    "        atrack = numpy.concatenate((track_before, track_after))\n",
    "        \n",
    "        reco_tracks[track_id] = {'hits': atrack, \n",
    "                                 'hitPosList': X[atrack, :-1],\n",
    "                                 'charge': comb.charges_[track_id], \n",
    "                                 'pinv':comb.inv_momentums_[track_id]}\n",
    "        \n",
    "    return reco_tracks\n",
    "\n",
    "def track_fit(reco_tracks, fitter=None):\n",
    "    \n",
    "    theTracks = []\n",
    "    \n",
    "    for track_id in reco_tracks.keys():\n",
    "        \n",
    "        theTrack = prepare_theTrack(reco_tracks[track_id]['hitPosList'], \n",
    "                                     reco_tracks[track_id]['charge'], \n",
    "                                     reco_tracks[track_id]['pinv'])\n",
    "        \n",
    "        TrackFit(reco_tracks[track_id]['hitPosList'],\n",
    "                 theTrack, \n",
    "                 theTracks)\n",
    "        \n",
    "    return theTracks\n",
    "\n",
    "def get_fitted_trackids(y, reco_tracks):\n",
    "    \n",
    "    fittedtrackids = []\n",
    "    fittedtrackfrac = []\n",
    "    \n",
    "    for track_id in reco_tracks.keys():\n",
    "        \n",
    "        frac, tmax = fracMCsame(y[reco_tracks[track_id]['hits']])\n",
    "        fittedtrackids.append(tmax)\n",
    "        fittedtrackfrac.append(frac)\n",
    "        \n",
    "    return fittedtrackids, fittedtrackfrac"
   ]
  },
  {
   "cell_type": "code",
   "execution_count": 294,
   "metadata": {
    "collapsed": false
   },
   "outputs": [
    {
     "name": "stderr",
     "output_type": "stream",
     "text": [
      "\r\n",
      "variable \"a\" not defined.\r\n",
      "\r\n",
      "variable \"a.\" not defined.\r\n",
      "\r\n",
      "variable \"a\" not defined.\r\n",
      "\r\n",
      "variable \"a.G\" not defined.\r\n",
      "\r\n",
      "variable \"a\" not defined.\r\n",
      "\r\n",
      "variable \"a.Ge\" not defined.\r\n",
      "\r\n",
      "variable \"a\" not defined.\r\n",
      "\r\n",
      "variable \"a.Get\" not defined.\r\n",
      "\r\n",
      "variable \"a\" not defined.\r\n",
      "\r\n",
      "variable \"a.GetP\" not defined.\r\n"
     ]
    }
   ],
   "source": [
    "def decodeDetectorID(detID):\n",
    "\n",
    "    statnb = detID // 10000000\n",
    "    vnb = (detID - statnb * 10000000) // 1000000\n",
    "    pnb = (detID - statnb * 10000000 - vnb * 1000000) // 100000\n",
    "    lnb = (detID - statnb * 10000000 - vnb * 1000000 - pnb * 100000) // 10000\n",
    "    snb = detID - statnb * 10000000 - vnb * 1000000 - pnb * 100000 - lnb * 10000 - 2000\n",
    "\n",
    "    return statnb, vnb, pnb, lnb, snb\n",
    "\n",
    "def select_track_hits(track_inds, selection):\n",
    "    \n",
    "    new_track_inds = []\n",
    "    \n",
    "    for atrack in track_inds:\n",
    "        \n",
    "        atrack = numpy.array(atrack)\n",
    "        mask = selection[atrack]\n",
    "        new_track_inds.append(atrack[mask])\n",
    "        \n",
    "    return numpy.array(new_track_inds)\n",
    "\n",
    "def get_charges(stree, smeared_hits):\n",
    "    \n",
    "    charges = []\n",
    "    \n",
    "    for i in range(len(smeared_hits)):\n",
    "        \n",
    "        pdg = stree.strawtubesPoint[i].PdgCode()\n",
    "        acharge = PDG.GetParticle(pdg).Charge() / 3.\n",
    "        charges.append(acharge)\n",
    "        \n",
    "    return numpy.array(charges)\n",
    "\n",
    "def get_pinvs(stree, smeared_hits):\n",
    "    \n",
    "    pinvs = []\n",
    "    \n",
    "    for i in range(len(smeared_hits)):\n",
    "        \n",
    "        px = stree.strawtubesPoint[i].GetPx()\n",
    "        py = stree.strawtubesPoint[i].GetPy()\n",
    "        pz = stree.strawtubesPoint[i].GetPz()\n",
    "        apinv = 1. / numpy.sqrt(px**2 + py**2 + pz**2)\n",
    "        pinvs.append(apinv)\n",
    "        \n",
    "    return numpy.array(pinvs)"
   ]
  },
  {
   "cell_type": "code",
   "execution_count": 322,
   "metadata": {
    "collapsed": false
   },
   "outputs": [],
   "source": [
    "def get_track_ids(stree, smeared_hits):\n",
    "    \n",
    "    y = []\n",
    "    \n",
    "    for i in range(len(smeared_hits)):\n",
    "        \n",
    "        track_id = stree.strawtubesPoint[i].GetTrackID()\n",
    "        y.append(track_id)\n",
    "        \n",
    "    return numpy.array(y)\n",
    "\n",
    "import rootUtils as ut\n",
    "from metrics import  HitsMatchingEfficiency\n",
    "\n",
    "h={} #dictionary of histograms\n",
    "ut.bookHist(h,'RecoEff_y12', 'Recognition Efficiency, Y view station 1&2',20,0.,1.01)\n",
    "ut.bookHist(h,'TrackEff_y12', 'Track Efficiency, Y view station 1&2',20,0.,1.01)\n",
    "ut.bookHist(h,'GhostRate_y12', 'Ghost Rate, Y view station 1&2',20,0.,1.01)\n",
    "ut.bookHist(h,'CloneRate_y12', 'Clone Rate, Y view station 1&2',20,0.,1.01)\n",
    "\n",
    "ut.bookHist(h,'RecoEff_stereo12', 'Recognition Efficiency, Stereo views station 1&2',20,0.,1.01)\n",
    "ut.bookHist(h,'TrackEff_stereo12', 'Track Efficiency, Stereo views station 1&2',20,0.,1.01)\n",
    "ut.bookHist(h,'GhostRate_stereo12', 'Ghost Rate, Stereo views station 1&2',20,0.,1.01)\n",
    "ut.bookHist(h,'CloneRate_stereo12', 'Clone Rate, Stereo views station 1&2',20,0.,1.01)\n",
    "\n",
    "ut.bookHist(h,'RecoEff_12', 'Recognition Efficiency, station 1&2',20,0.,1.01)\n",
    "ut.bookHist(h,'TrackEff_12', 'Track Efficiency, station 1&2',20,0.,1.01)\n",
    "ut.bookHist(h,'GhostRate_12', 'Ghost Rate, station 1&2',20,0.,1.01)\n",
    "ut.bookHist(h,'CloneRate_12', 'Clone Rate, station 1&2',20,0.,1.01)\n",
    "\n",
    "ut.bookHist(h,'RecoEff_y34', 'Recognition Efficiency, Y view station 3&4',20,0.,1.01)\n",
    "ut.bookHist(h,'TrackEff_y34', 'Track Efficiency, Y view station 3&4',20,0.,1.01)\n",
    "ut.bookHist(h,'GhostRate_y34', 'Ghost Rate, Y view station 3&4',20,0.,1.01)\n",
    "ut.bookHist(h,'CloneRate_y34', 'Clone Rate, Y view station 3&4',20,0.,1.01)\n",
    "\n",
    "ut.bookHist(h,'RecoEff_stereo34', 'Recognition Efficiency, Stereo views station 3&4',20,0.,1.01)\n",
    "ut.bookHist(h,'TrackEff_stereo34', 'Track Efficiency, Stereo views station 3&4',20,0.,1.01)\n",
    "ut.bookHist(h,'GhostRate_stereo34', 'Ghost Rate, Stereo views station 3&4',20,0.,1.01)\n",
    "ut.bookHist(h,'CloneRate_stereo34', 'Clone Rate, Stereo views station 3&4',20,0.,1.01)\n",
    "\n",
    "ut.bookHist(h,'RecoEff_34', 'Recognition Efficiency, station 3&4',20,0.,1.01)\n",
    "ut.bookHist(h,'TrackEff_34', 'Track Efficiency, station 3&4',20,0.,1.01)\n",
    "ut.bookHist(h,'GhostRate_34', 'Ghost Rate, station 3&4',20,0.,1.01)\n",
    "ut.bookHist(h,'CloneRate_34', 'Clone Rate, station 3&4',20,0.,1.01)\n",
    "\n",
    "ut.bookHist(h,'EventsPassed','Events passing the pattern recognition',9,-0.5,8.5)\n",
    "h['EventsPassed'].GetXaxis().SetBinLabel(1,\"Reconstructible tracks\") \n",
    "h['EventsPassed'].GetXaxis().SetBinLabel(2,\"Y view station 1&2\")  \n",
    "h['EventsPassed'].GetXaxis().SetBinLabel(3,\"Stereo station 1&2\") \n",
    "h['EventsPassed'].GetXaxis().SetBinLabel(4,\"station 1&2\") \n",
    "h['EventsPassed'].GetXaxis().SetBinLabel(5,\"Y view station 3&4\") \n",
    "h['EventsPassed'].GetXaxis().SetBinLabel(6,\"Stereo station 3&4\")   \n",
    "h['EventsPassed'].GetXaxis().SetBinLabel(7,\"station 3&4\")  \n",
    "h['EventsPassed'].GetXaxis().SetBinLabel(8,\"Combined stations 1&2/3&4\")   \n",
    "h['EventsPassed'].GetXaxis().SetBinLabel(9,\"Matched\") \n",
    "\n",
    "ut.bookHist(h,'ptrue-p/ptrue','(p - p-true)/p',200,-1.,1.)\n",
    "\n",
    "\n",
    "def quality_metrics(smeared_hits, stree, reco_mc_tracks, reco_tracks, h):\n",
    "    \n",
    "    X = Digitization(stree,smeared_hits)\n",
    "    y = get_track_ids(stree, smeared_hits)\n",
    "    \n",
    "    track_inds = [atrack['hits'] for atrack in reco_tracks.values()]\n",
    "    statnb, vnb, pnb, lnb, snb = decodeDetectorID(X[:, -1])\n",
    "    \n",
    "    is_stereo = ((vnb == 1) + (vnb == 2))\n",
    "    is_y = ((vnb == 0) + (vnb == 3))\n",
    "    is_before = ((statnb == 1) + (statnb == 2))\n",
    "    is_after = ((statnb == 3) + (statnb == 4))\n",
    "    \n",
    "    track_inds_y12 = select_track_hits(track_inds, is_before * is_y)\n",
    "    track_inds_stereo12 = select_track_hits(track_inds, is_before * is_stereo)\n",
    "    track_inds_12 = select_track_hits(track_inds, is_before)\n",
    "    \n",
    "    track_inds_y34 = select_track_hits(track_inds, is_after * is_y)\n",
    "    track_inds_stereo34 = select_track_hits(track_inds, is_after * is_stereo)\n",
    "    track_inds_34 = select_track_hits(track_inds, is_after)\n",
    "\n",
    "    \n",
    "    # Y view station 1&2\n",
    "    hme_y12 = HitsMatchingEfficiency(eff_threshold=0.2, n_tracks=2)\n",
    "    hme_y12.fit(y, track_inds_y12)\n",
    "    reco_eff = hme_y12.recognition_efficiency_\n",
    "    ghost_rate = hme_y12.ghost_rate_\n",
    "    clone_rate = hme_y12.clone_rate_\n",
    "    track_eff = hme_y12.efficiencies_\n",
    "    \n",
    "    h['RecoEff_y12'].Fill(reco_eff)\n",
    "    h['GhostRate_y12'].Fill(ghost_rate)\n",
    "    h['CloneRate_y12'].Fill(clone_rate)\n",
    "    for i in track_eff:\n",
    "        h['TrackEff_y12'].Fill(i)\n",
    "        \n",
    "    # Stereo views station 1&2\n",
    "    hme_stereo12 = HitsMatchingEfficiency(eff_threshold=0.2, n_tracks=2)\n",
    "    hme_stereo12.fit(y, track_inds_stereo12)\n",
    "    reco_eff = hme_stereo12.recognition_efficiency_\n",
    "    ghost_rate = hme_stereo12.ghost_rate_\n",
    "    clone_rate = hme_stereo12.clone_rate_\n",
    "    track_eff = hme_stereo12.efficiencies_\n",
    "    \n",
    "    h['RecoEff_stereo12'].Fill(reco_eff)\n",
    "    h['GhostRate_stereo12'].Fill(ghost_rate)\n",
    "    h['CloneRate_stereo12'].Fill(clone_rate)\n",
    "    for i in track_eff:\n",
    "        h['TrackEff_stereo12'].Fill(i)\n",
    "        \n",
    "    # Station 1&2\n",
    "    hme_12 = HitsMatchingEfficiency(eff_threshold=0.2, n_tracks=2)\n",
    "    hme_12.fit(y, track_inds_12)\n",
    "    reco_eff = hme_12.recognition_efficiency_\n",
    "    ghost_rate = hme_12.ghost_rate_\n",
    "    clone_rate = hme_12.clone_rate_\n",
    "    track_eff = hme_12.efficiencies_\n",
    "    \n",
    "    h['RecoEff_12'].Fill(reco_eff)\n",
    "    h['GhostRate_12'].Fill(ghost_rate)\n",
    "    h['CloneRate_12'].Fill(clone_rate)\n",
    "    for i in track_eff:\n",
    "        h['TrackEff_12'].Fill(i)\n",
    "        \n",
    "    # Y view station 3&4\n",
    "    hme_y34 = HitsMatchingEfficiency(eff_threshold=0.2, n_tracks=2)\n",
    "    hme_y34.fit(y, track_inds_y34)\n",
    "    reco_eff = hme_y34.recognition_efficiency_\n",
    "    ghost_rate = hme_y34.ghost_rate_\n",
    "    clone_rate = hme_y34.clone_rate_\n",
    "    track_eff = hme_y34.efficiencies_\n",
    "    \n",
    "    h['RecoEff_y34'].Fill(reco_eff)\n",
    "    h['GhostRate_y34'].Fill(ghost_rate)\n",
    "    h['CloneRate_y34'].Fill(clone_rate)\n",
    "    for i in track_eff:\n",
    "        h['TrackEff_y34'].Fill(i)\n",
    "        \n",
    "    # Stereo views station 3&4\n",
    "    hme_stereo34 = HitsMatchingEfficiency(eff_threshold=0.2, n_tracks=2)\n",
    "    hme_stereo34.fit(y, track_inds_stereo34)\n",
    "    reco_eff = hme_stereo34.recognition_efficiency_\n",
    "    ghost_rate = hme_stereo34.ghost_rate_\n",
    "    clone_rate = hme_stereo34.clone_rate_\n",
    "    track_eff = hme_stereo34.efficiencies_\n",
    "    \n",
    "    h['RecoEff_stereo34'].Fill(reco_eff)\n",
    "    h['GhostRate_stereo34'].Fill(ghost_rate)\n",
    "    h['CloneRate_stereo34'].Fill(clone_rate)\n",
    "    for i in track_eff:\n",
    "        h['TrackEff_stereo34'].Fill(i)\n",
    "        \n",
    "    # Station 3&4\n",
    "    hme_34 = HitsMatchingEfficiency(eff_threshold=0.2, n_tracks=2)\n",
    "    hme_34.fit(y, track_inds_34)\n",
    "    reco_eff = hme_34.recognition_efficiency_\n",
    "    ghost_rate = hme_34.ghost_rate_\n",
    "    clone_rate = hme_34.clone_rate_\n",
    "    track_eff = hme_34.efficiencies_\n",
    "    \n",
    "    h['RecoEff_34'].Fill(reco_eff)\n",
    "    h['GhostRate_34'].Fill(ghost_rate)\n",
    "    h['CloneRate_34'].Fill(clone_rate)\n",
    "    for i in track_eff:\n",
    "        h['TrackEff_34'].Fill(i)\n",
    "        \n",
    "    # Track combinations\n",
    "    combinations = []\n",
    "    for track_id in range(len(track_inds)):\n",
    "        \n",
    "        track_before = track_inds_12[track_id]\n",
    "        track_after = track_inds_34[track_id]\n",
    "        \n",
    "        frac12, tmax12 = fracMCsame(y[track_before])\n",
    "        frac34, tmax34 = fracMCsame(y[track_after])\n",
    "        \n",
    "        if tmax12 == tmax34:\n",
    "            combinations.append(tmax12)\n",
    "            \n",
    "    unique_combs = numpy.unique(combinations)\n",
    "    if len(unique_combs[numpy.in1d(unique_combs, reco_mc_tracks)]) == len(reco_mc_tracks):\n",
    "        is_combined = 1\n",
    "    else:\n",
    "        is_combined = 0\n",
    "        \n",
    "    # Matching\n",
    "    is_matched = numpy.zeros(len(reco_mc_tracks))\n",
    "    charges = get_charges(sTree, smeared_hits)\n",
    "    \n",
    "    for num, track_id in enumerate(reco_mc_tracks):\n",
    "        for i in reco_tracks.keys():\n",
    "            \n",
    "            atrack = reco_tracks[i]['hits']\n",
    "            frac, tmax = fracMCsame(y[atrack])\n",
    "            if tmax == track_id:\n",
    "                true_charge = charges[y[y == tmax]][0]\n",
    "                reco_charge = reco_tracks[i]['charge']\n",
    "                if reco_charge == true_charge:\n",
    "                    is_matched[num] = 1\n",
    "        \n",
    "        \n",
    "    # Events Passed\n",
    "    if len(reco_mc_tracks) == 2:\n",
    "        h['EventsPassed'].Fill(\"Reconstructible tracks\", 1)\n",
    "        \n",
    "        if hme_y12.recognition_efficiency_ == 1:\n",
    "            h['EventsPassed'].Fill(\"Y view station 1&2\", 1)\n",
    "            \n",
    "            if hme_stereo12.recognition_efficiency_ == 1:\n",
    "                h['EventsPassed'].Fill(\"Stereo station 1&2\", 1)\n",
    "                \n",
    "                if hme_12.recognition_efficiency_ == 1:\n",
    "                    h['EventsPassed'].Fill(\"station 1&2\", 1)\n",
    "                \n",
    "                    if hme_y34.recognition_efficiency_ == 1:\n",
    "                        h['EventsPassed'].Fill(\"Y view station 3&4\", 1)\n",
    "\n",
    "                        if hme_stereo34.recognition_efficiency_ == 1:\n",
    "                            h['EventsPassed'].Fill(\"Stereo station 3&4\", 1)\n",
    "                            \n",
    "                            if hme_34.recognition_efficiency_ == 1:\n",
    "                                h['EventsPassed'].Fill(\"station 3&4\", 1)\n",
    "                                \n",
    "                                if is_combined == 1:\n",
    "                                    h['EventsPassed'].Fill(\"Combined stations 1&2/3&4\", 1)\n",
    "                                    \n",
    "                                    if is_matched.sum() == len(reco_mc_tracks):\n",
    "                                        h['EventsPassed'].Fill(\"Matched\", 1)\n",
    "                                        \n",
    "    # Pinv\n",
    "    pinvs = get_pinvs(stree, smeared_hits)\n",
    "    \n",
    "    for i in reco_tracks.keys():\n",
    "            \n",
    "        atrack = reco_tracks[i]['hits']\n",
    "        frac, tmax = fracMCsame(y[atrack])\n",
    "        pinv_true = pinvs[y == tmax][0]\n",
    "        pinv = reco_tracks[i]['pinv']\n",
    "        charge = reco_tracks[i]['charge']\n",
    "        \n",
    "        err = 1 - charge * pinv / pinv_true\n",
    "        h['ptrue-p/ptrue'].Fill(err)\n",
    "        \n",
    "        \n",
    "    \n",
    "    return h"
   ]
  },
  {
   "cell_type": "code",
   "execution_count": 323,
   "metadata": {
    "collapsed": false
   },
   "outputs": [],
   "source": [
    "h = quality_metrics(smeared_hits, sTree, reco_mc_tracks, reco_tracks, h)"
   ]
  },
  {
   "cell_type": "code",
   "execution_count": 324,
   "metadata": {
    "collapsed": false
   },
   "outputs": [
    {
     "data": {
      "image/png": "[encoded data removed]",
      "text/plain": [
       "<IPython.core.display.Image object>"
      ]
     },
     "metadata": {},
     "output_type": "display_data"
    }
   ],
   "source": [
    "h['ptrue-p/ptrue'].Draw()\n",
    "c.Draw()"
   ]
  },
  {
   "cell_type": "code",
   "execution_count": 325,
   "metadata": {
    "collapsed": false
   },
   "outputs": [
    {
     "data": {
      "image/png": "[encoded data removed]",
      "text/plain": [
       "<IPython.core.display.Image object>"
      ]
     },
     "metadata": {},
     "output_type": "display_data"
    }
   ],
   "source": [
    "b = h['EventsPassed']\n",
    "b.Draw()\n",
    "c.Draw()"
   ]
  },
  {
   "cell_type": "code",
   "execution_count": 319,
   "metadata": {
    "collapsed": false
   },
   "outputs": [
    {
     "name": "stderr",
     "output_type": "stream",
     "text": [
      "\r\n",
      "variable \"ut\" not defined.\r\n",
      "\r\n",
      "variable \"ut.wri\" not defined.\r\n"
     ]
    }
   ],
   "source": [
    "ut.writeHists(h, 'hitst.root')"
   ]
  },
  {
   "cell_type": "code",
   "execution_count": null,
   "metadata": {
    "collapsed": true
   },
   "outputs": [],
   "source": []
  },
  {
   "cell_type": "code",
   "execution_count": null,
   "metadata": {
    "collapsed": true
   },
   "outputs": [],
   "source": []
  },
  {
   "cell_type": "code",
   "execution_count": 105,
   "metadata": {
    "collapsed": false
   },
   "outputs": [],
   "source": [
    "def execute(smeared_hits, stree, reco_mc_tracks):\n",
    "    \n",
    "    X = Digitization(stree,smeared_hits)\n",
    "    y = get_track_ids(stree, smeared_hits)\n",
    "    \n",
    "    reco_tracks = track_pattern_recognition(X, method='FastHough')\n",
    "    theTracks = track_fit(reco_tracks)\n",
    "    fittedtrackids, fittedtrackfrac = get_fitted_trackids(y, reco_tracks)\n",
    "        \n",
    "    return reco_tracks, theTracks, fittedtrackids, fittedtrackfrac"
   ]
  },
  {
   "cell_type": "code",
   "execution_count": 106,
   "metadata": {
    "collapsed": false
   },
   "outputs": [],
   "source": [
    "reco_tracks, theTracks, fittedtrackids, fittedtrackfrac = execute(smeared_hits, sTree, reco_mc_tracks)"
   ]
  },
  {
   "cell_type": "code",
   "execution_count": 107,
   "metadata": {
    "collapsed": false
   },
   "outputs": [
    {
     "data": {
      "text/plain": [
       "{0: {'charge': -1.0,\n",
       "  'hitPosList': array([[ -2.25013014e+02,  -2.54637731e+01,   2.58115000e+03,\n",
       "            2.25013014e+02,  -2.54637731e+01,   2.58115000e+03,\n",
       "            1.22158315e-01],\n",
       "         [ -2.25013014e+02,  -2.50237731e+01,   2.58485000e+03,\n",
       "            2.25013014e+02,  -2.50237731e+01,   2.58485000e+03,\n",
       "            3.52209411e-01],\n",
       "         [ -2.25013014e+02,  -2.54637731e+01,   2.61115000e+03,\n",
       "            2.25013014e+02,  -2.54637731e+01,   2.61115000e+03,\n",
       "            1.92870407e-01],\n",
       "         [ -2.25013014e+02,  -2.59037731e+01,   2.61375000e+03,\n",
       "            2.25013014e+02,  -2.59037731e+01,   2.61375000e+03,\n",
       "            2.14744865e-01],\n",
       "         [ -2.25013014e+02,  -2.81037731e+01,   2.78225000e+03,\n",
       "            2.25013014e+02,  -2.81037731e+01,   2.78225000e+03,\n",
       "            3.63001370e-02],\n",
       "         [ -2.25013014e+02,  -2.85437731e+01,   2.78485000e+03,\n",
       "            2.25013014e+02,  -2.85437731e+01,   2.78485000e+03,\n",
       "            3.49547346e-01],\n",
       "         [ -2.25013014e+02,  -2.89837731e+01,   2.81115000e+03,\n",
       "            2.25013014e+02,  -2.89837731e+01,   2.81115000e+03,\n",
       "            2.53455021e-01],\n",
       "         [ -2.25013014e+02,  -2.85437731e+01,   2.81485000e+03,\n",
       "            2.25013014e+02,  -2.85437731e+01,   2.81485000e+03,\n",
       "            2.62574544e-01],\n",
       "         [ -2.21860760e+02,  -4.58547034e+01,   2.59225000e+03,\n",
       "            2.26452783e+02,  -6.63235070e+00,   2.59225000e+03,\n",
       "            2.43983198e-01],\n",
       "         [ -2.21822412e+02,  -4.62930291e+01,   2.59485000e+03,\n",
       "            2.26491131e+02,  -7.07067636e+00,   2.59485000e+03,\n",
       "            1.48776432e-01],\n",
       "         [ -2.26222692e+02,  -4.00239669e+00,   2.60115000e+03,\n",
       "            2.22090852e+02,  -4.32247494e+01,   2.60115000e+03,\n",
       "            4.62046679e-01],\n",
       "         [ -2.26299389e+02,  -4.87904803e+00,   2.60225000e+03,\n",
       "            2.22014155e+02,  -4.41014008e+01,   2.60225000e+03,\n",
       "            4.08980318e-01],\n",
       "         [ -2.26261040e+02,  -4.44072236e+00,   2.60375000e+03,\n",
       "            2.22052503e+02,  -4.36630751e+01,   2.60375000e+03,\n",
       "            3.42072282e-02],\n",
       "         [ -2.21477275e+02,  -5.02379601e+01,   2.79115000e+03,\n",
       "            2.26836268e+02,  -1.10156074e+01,   2.79115000e+03,\n",
       "            8.69850535e-02],\n",
       "         [ -2.21438927e+02,  -5.06762858e+01,   2.79375000e+03,\n",
       "            2.26874617e+02,  -1.14539330e+01,   2.79375000e+03,\n",
       "            4.59265125e-01],\n",
       "         [ -2.21515624e+02,  -4.97996344e+01,   2.79485000e+03,\n",
       "            2.26797919e+02,  -1.05772817e+01,   2.79485000e+03,\n",
       "            4.45501201e-01],\n",
       "         [ -2.26376086e+02,  -5.75569936e+00,   2.80115000e+03,\n",
       "            2.21937458e+02,  -4.49780521e+01,   2.80115000e+03,\n",
       "            4.36524527e-01],\n",
       "         [ -2.26452783e+02,  -6.63235070e+00,   2.80225000e+03,\n",
       "            2.21860760e+02,  -4.58547034e+01,   2.80225000e+03,\n",
       "            4.23683147e-01],\n",
       "         [ -2.26414434e+02,  -6.19402503e+00,   2.80375000e+03,\n",
       "            2.21899109e+02,  -4.54163778e+01,   2.80375000e+03,\n",
       "            3.45150883e-02],\n",
       "         [ -2.26452783e+02,  -6.63235070e+00,   2.80225000e+03,\n",
       "            2.21860760e+02,  -4.58547034e+01,   2.80225000e+03,\n",
       "            1.14392228e-01],\n",
       "         [ -2.26491131e+02,  -7.07067636e+00,   2.80485000e+03,\n",
       "            2.21822412e+02,  -4.62930291e+01,   2.80485000e+03,\n",
       "            3.17416314e-01],\n",
       "         [ -2.50000000e+02,  -5.44000000e+01,   3.32115000e+03,\n",
       "            2.50000000e+02,  -5.44000000e+01,   3.32115000e+03,\n",
       "            3.09009874e-01],\n",
       "         [ -2.50000000e+02,  -5.52800000e+01,   3.32225000e+03,\n",
       "            2.50000000e+02,  -5.52800000e+01,   3.32225000e+03,\n",
       "            4.75852482e-01],\n",
       "         [ -2.50000000e+02,  -5.48400000e+01,   3.32375000e+03,\n",
       "            2.50000000e+02,  -5.48400000e+01,   3.32375000e+03,\n",
       "            7.98885699e-02],\n",
       "         [ -2.50000000e+02,  -5.70400000e+01,   3.35225000e+03,\n",
       "            2.50000000e+02,  -5.70400000e+01,   3.35225000e+03,\n",
       "            2.15342539e-01],\n",
       "         [ -2.50000000e+02,  -5.74800000e+01,   3.35485000e+03,\n",
       "            2.50000000e+02,  -5.74800000e+01,   3.35485000e+03,\n",
       "            4.15843624e-03],\n",
       "         [ -2.50000000e+02,  -7.20000000e+01,   3.52115000e+03,\n",
       "            2.50000000e+02,  -7.20000000e+01,   3.52115000e+03,\n",
       "            7.83040256e-02],\n",
       "         [ -2.50000000e+02,  -7.24400000e+01,   3.52375000e+03,\n",
       "            2.50000000e+02,  -7.24400000e+01,   3.52375000e+03,\n",
       "            1.19092387e-01],\n",
       "         [ -2.50000000e+02,  -7.46400000e+01,   3.55225000e+03,\n",
       "            2.50000000e+02,  -7.46400000e+01,   3.55225000e+03,\n",
       "            3.02315713e-01],\n",
       "         [ -2.50000000e+02,  -7.50800000e+01,   3.55485000e+03,\n",
       "            2.50000000e+02,  -7.50800000e+01,   3.55485000e+03,\n",
       "            1.04465014e-01],\n",
       "         [ -2.43693826e+02,  -8.29951379e+01,   3.33115000e+03,\n",
       "            2.54403523e+02,  -3.94172666e+01,   3.33115000e+03,\n",
       "            3.90020632e-01],\n",
       "         [ -2.43732174e+02,  -8.25568123e+01,   3.33485000e+03,\n",
       "            2.54365175e+02,  -3.89789409e+01,   3.33485000e+03,\n",
       "            3.66696133e-01],\n",
       "         [ -2.53406462e+02,  -2.80207992e+01,   3.34225000e+03,\n",
       "            2.44690887e+02,  -7.15986706e+01,   3.34225000e+03,\n",
       "            4.10726896e-01],\n",
       "         [ -2.53444810e+02,  -2.84591249e+01,   3.34485000e+03,\n",
       "            2.44652539e+02,  -7.20369963e+01,   3.34485000e+03,\n",
       "            1.69065458e-01],\n",
       "         [ -2.42083188e+02,  -1.01404816e+02,   3.53225000e+03,\n",
       "            2.56014161e+02,  -5.78269446e+01,   3.53225000e+03,\n",
       "            1.34325097e-01],\n",
       "         [ -2.42121536e+02,  -1.00966490e+02,   3.53375000e+03,\n",
       "            2.55975813e+02,  -5.73886189e+01,   3.53375000e+03,\n",
       "            4.45784610e-01],\n",
       "         [ -2.42044839e+02,  -1.01843142e+02,   3.53485000e+03,\n",
       "            2.56052510e+02,  -5.82652703e+01,   3.53485000e+03,\n",
       "            3.19242045e-01],\n",
       "         [ -2.54863706e+02,  -4.46771746e+01,   3.54115000e+03,\n",
       "            2.43233643e+02,  -8.82550459e+01,   3.54115000e+03,\n",
       "            9.83175118e-02],\n",
       "         [ -2.54902054e+02,  -4.51155002e+01,   3.54375000e+03,\n",
       "            2.43195295e+02,  -8.86933716e+01,   3.54375000e+03,\n",
       "            3.14068771e-01]]),\n",
       "  'hits': array([ 0,  1,  7,  8,  9, 10, 17, 18,  2,  3,  4,  5,  6, 11, 12, 13, 14,\n",
       "         15, 16, 50, 51, 19, 20, 21, 26, 27, 28, 29, 35, 36, 22, 23, 24, 25,\n",
       "         30, 31, 32, 33, 34]),\n",
       "  'pinv': -0.31792375077840579},\n",
       " 1: {'charge': 1.0,\n",
       "  'hitPosList': array([[ -2.25013014e+02,  -2.28237731e+01,   2.58225000e+03,\n",
       "            2.25013014e+02,  -2.28237731e+01,   2.58225000e+03,\n",
       "            2.63925080e-01],\n",
       "         [ -2.25013014e+02,  -2.32637731e+01,   2.58485000e+03,\n",
       "            2.25013014e+02,  -2.32637731e+01,   2.58485000e+03,\n",
       "            1.67730191e-01],\n",
       "         [ -2.25013014e+02,  -2.28237731e+01,   2.61225000e+03,\n",
       "            2.25013014e+02,  -2.28237731e+01,   2.61225000e+03,\n",
       "            3.17066675e-01],\n",
       "         [ -2.25013014e+02,  -2.32637731e+01,   2.61485000e+03,\n",
       "            2.25013014e+02,  -2.32637731e+01,   2.61485000e+03,\n",
       "            1.14732896e-01],\n",
       "         [ -2.25013014e+02,  -2.37037731e+01,   2.78115000e+03,\n",
       "            2.25013014e+02,  -2.37037731e+01,   2.78115000e+03,\n",
       "            3.10662357e-01],\n",
       "         [ -2.25013014e+02,  -2.32637731e+01,   2.78485000e+03,\n",
       "            2.25013014e+02,  -2.32637731e+01,   2.78485000e+03,\n",
       "            1.29655779e-01],\n",
       "         [ -2.25013014e+02,  -2.37037731e+01,   2.81115000e+03,\n",
       "            2.25013014e+02,  -2.37037731e+01,   2.81115000e+03,\n",
       "            2.80561253e-01],\n",
       "         [ -2.25013014e+02,  -2.32637731e+01,   2.81485000e+03,\n",
       "            2.25013014e+02,  -2.32637731e+01,   2.81485000e+03,\n",
       "            1.59065162e-01],\n",
       "         [ -2.22397640e+02,  -3.97181441e+01,   2.59115000e+03,\n",
       "            2.25915903e+02,  -4.95791357e-01,   2.59115000e+03,\n",
       "            1.35968055e-01],\n",
       "         [ -2.22435988e+02,  -3.92798184e+01,   2.59485000e+03,\n",
       "            2.25877555e+02,  -5.74656900e-02,   2.59485000e+03,\n",
       "            3.04035504e-01],\n",
       "         [ -2.26452783e+02,  -6.63235070e+00,   2.60225000e+03,\n",
       "            2.21860760e+02,  -4.58547034e+01,   2.60225000e+03,\n",
       "            3.24495920e-01],\n",
       "         [ -2.26414434e+02,  -6.19402503e+00,   2.60375000e+03,\n",
       "            2.21899109e+02,  -4.54163778e+01,   2.60375000e+03,\n",
       "            1.15626960e-01],\n",
       "         [ -2.22397640e+02,  -3.97181441e+01,   2.79115000e+03,\n",
       "            2.25915903e+02,  -4.95791357e-01,   2.79115000e+03,\n",
       "            1.88325828e-04],\n",
       "         [ -2.22359291e+02,  -4.01564698e+01,   2.79375000e+03,\n",
       "            2.25954252e+02,  -9.34117024e-01,   2.79375000e+03,\n",
       "            4.35883183e-01],\n",
       "         [ -2.22435988e+02,  -3.92798184e+01,   2.79485000e+03,\n",
       "            2.25877555e+02,  -5.74656900e-02,   2.79485000e+03,\n",
       "            4.40692842e-01],\n",
       "         [ -2.50000000e+02,  -2.27200000e+01,   3.32115000e+03,\n",
       "            2.50000000e+02,  -2.27200000e+01,   3.32115000e+03,\n",
       "            4.26242398e-04],\n",
       "         [ -2.50000000e+02,  -2.31600000e+01,   3.32375000e+03,\n",
       "            2.50000000e+02,  -2.31600000e+01,   3.32375000e+03,\n",
       "            4.46430276e-01],\n",
       "         [ -2.50000000e+02,  -2.22800000e+01,   3.32485000e+03,\n",
       "            2.50000000e+02,  -2.22800000e+01,   3.32485000e+03,\n",
       "            4.25763509e-01],\n",
       "         [ -2.50000000e+02,  -2.27200000e+01,   3.35115000e+03,\n",
       "            2.50000000e+02,  -2.27200000e+01,   3.35115000e+03,\n",
       "            1.11595251e-01],\n",
       "         [ -2.50000000e+02,  -2.22800000e+01,   3.35485000e+03,\n",
       "            2.50000000e+02,  -2.22800000e+01,   3.35485000e+03,\n",
       "            3.10148566e-01],\n",
       "         [ -2.50000000e+02,  -2.18400000e+01,   3.52225000e+03,\n",
       "            2.50000000e+02,  -2.18400000e+01,   3.52225000e+03,\n",
       "            3.28327853e-02],\n",
       "         [ -2.50000000e+02,  -2.14000000e+01,   3.52375000e+03,\n",
       "            2.50000000e+02,  -2.14000000e+01,   3.52375000e+03,\n",
       "            4.65952202e-01],\n",
       "         [ -2.50000000e+02,  -2.22800000e+01,   3.52485000e+03,\n",
       "            2.50000000e+02,  -2.22800000e+01,   3.52485000e+03,\n",
       "            4.15398630e-01],\n",
       "         [ -2.50000000e+02,  -2.18400000e+01,   3.55225000e+03,\n",
       "            2.50000000e+02,  -2.18400000e+01,   3.55225000e+03,\n",
       "            1.01022153e-01],\n",
       "         [ -2.50000000e+02,  -2.14000000e+01,   3.55375000e+03,\n",
       "            2.50000000e+02,  -2.14000000e+01,   3.55375000e+03,\n",
       "            3.28372531e-01],\n",
       "         [ -2.47375284e+02,  -4.09158739e+01,   3.33115000e+03,\n",
       "            2.50722065e+02,   2.66199748e+00,   3.33115000e+03,\n",
       "            1.46999721e-01],\n",
       "         [ -2.47413633e+02,  -4.04775482e+01,   3.33485000e+03,\n",
       "            2.50683716e+02,   3.10032315e+00,   3.33485000e+03,\n",
       "            2.72420107e-01],\n",
       "         [ -2.51335641e+02,  -4.35121319e+00,   3.34115000e+03,\n",
       "            2.46761708e+02,  -4.79290846e+01,   3.34115000e+03,\n",
       "            1.24667137e-01],\n",
       "         [ -2.51297293e+02,  -3.91288752e+00,   3.34485000e+03,\n",
       "            2.46800056e+02,  -4.74907589e+01,   3.34485000e+03,\n",
       "            3.00206860e-01],\n",
       "         [ -2.47451981e+02,  -4.00392226e+01,   3.53225000e+03,\n",
       "            2.50645368e+02,   3.53864882e+00,   3.53225000e+03,\n",
       "            2.74159306e-01],\n",
       "         [ -2.47490330e+02,  -3.96008969e+01,   3.53375000e+03,\n",
       "            2.50607019e+02,   3.97697449e+00,   3.53375000e+03,\n",
       "            1.54170338e-01],\n",
       "         [ -2.51258944e+02,  -3.47456186e+00,   3.54225000e+03,\n",
       "            2.46838405e+02,  -4.70524332e+01,   3.54225000e+03,\n",
       "            4.81121829e-02],\n",
       "         [ -2.51220596e+02,  -3.03623619e+00,   3.54375000e+03,\n",
       "            2.46876753e+02,  -4.66141076e+01,   3.54375000e+03,\n",
       "            4.82391185e-01],\n",
       "         [ -2.51297293e+02,  -3.91288752e+00,   3.54485000e+03,\n",
       "            2.46800056e+02,  -4.74907589e+01,   3.54485000e+03,\n",
       "            3.98117502e-01]]),\n",
       "  'hits': array([37, 38, 43, 44, 45, 46, 52, 53, 39, 40, 41, 42, 47, 48, 49, 54, 55,\n",
       "         56, 61, 62, 63, 64, 65, 71, 72, 57, 58, 59, 60, 66, 67, 68, 69, 70]),\n",
       "  'pinv': 0.029416317666099954}}"
      ]
     },
     "execution_count": 107,
     "metadata": {},
     "output_type": "execute_result"
    }
   ],
   "source": [
    "reco_tracks"
   ]
  },
  {
   "cell_type": "code",
   "execution_count": 108,
   "metadata": {
    "collapsed": false
   },
   "outputs": [
    {
     "data": {
      "text/plain": [
       "[<ROOT.genfit::Track object (\"genfit::Track\") at 0x150d8490>,\n",
       " <ROOT.genfit::Track object (\"genfit::Track\") at 0x152a8fc0>]"
      ]
     },
     "execution_count": 108,
     "metadata": {},
     "output_type": "execute_result"
    }
   ],
   "source": [
    "theTracks"
   ]
  },
  {
   "cell_type": "code",
   "execution_count": 109,
   "metadata": {
    "collapsed": false
   },
   "outputs": [
    {
     "data": {
      "text/plain": [
       "[4, 3]"
      ]
     },
     "execution_count": 109,
     "metadata": {},
     "output_type": "execute_result"
    }
   ],
   "source": [
    "fittedtrackids"
   ]
  },
  {
   "cell_type": "code",
   "execution_count": 110,
   "metadata": {
    "collapsed": false
   },
   "outputs": [
    {
     "data": {
      "text/plain": [
       "[0.9487179487179487, 1.0]"
      ]
     },
     "execution_count": 110,
     "metadata": {},
     "output_type": "execute_result"
    }
   ],
   "source": [
    "fittedtrackfrac"
   ]
  },
  {
   "cell_type": "code",
   "execution_count": null,
   "metadata": {
    "collapsed": true
   },
   "outputs": [],
   "source": []
  }
 ],
 "metadata": {
  "kernelspec": {
   "display_name": "Python 2",
   "language": "python",
   "name": "python2"
  },
  "language_info": {
   "codemirror_mode": {
    "name": "ipython",
    "version": 2
   },
   "file_extension": ".py",
   "mimetype": "text/x-python",
   "name": "python",
   "nbconvert_exporter": "python",
   "pygments_lexer": "ipython2",
   "version": "2.7.5"
  }
 },
 "nbformat": 4,
 "nbformat_minor": 2
}
